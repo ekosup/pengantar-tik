{
 "cells": [
  {
   "cell_type": "markdown",
   "id": "20c955c0-1d5b-4801-8bd9-66a331858435",
   "metadata": {
    "tags": []
   },
   "source": [
    "# Percabangan\n",
    "\n",
    "### IF"
   ]
  },
  {
   "cell_type": "code",
   "execution_count": 1,
   "id": "a693e5b3-9b60-4517-8d24-6d297df99404",
   "metadata": {},
   "outputs": [
    {
     "name": "stdout",
     "output_type": "stream",
     "text": [
      "Sembilan lebih besar dari angka Tujuh\n"
     ]
    }
   ],
   "source": [
    "nilai = 9\n",
    "if(nilai > 7) :\n",
    "    print(\"Sembilan lebih besar dari angka Tujuh\")\n",
    "    "
   ]
  },
  {
   "cell_type": "code",
   "execution_count": null,
   "id": "0b1b72e3-940f-41d8-89b5-5bad1255eb40",
   "metadata": {},
   "outputs": [],
   "source": [
    "if(nilai > 10) :\n",
    "    print(\"Sembilan lebih besar dari angka Sepuluh\")"
   ]
  },
  {
   "cell_type": "markdown",
   "id": "fe4c5d93-fb5b-4b4d-bdb0-a1479c710a35",
   "metadata": {
    "tags": []
   },
   "source": [
    "# Latihan soal IF #1 \n",
    "\n",
    "Perhatikan kode di bawah ini:\n",
    "\n",
    "level = 7\n",
    "\n",
    "if (level … 10) :\n",
    "\tprint (“You must be level 10 or more to continue!”)\n",
    "\n",
    "> Apa operator relasional yang tepat untuk mengisi titik-titik di atas agar kode di dalam blok if dijalankan oleh komputer?\n",
    "##### 1. >=\n",
    "##### 2. <\n",
    "##### 3. >\n",
    "##### 4. =\n"
   ]
  },
  {
   "cell_type": "code",
   "execution_count": null,
   "id": "eeb7da9f-783a-4366-ac9b-570116e7cd5c",
   "metadata": {},
   "outputs": [],
   "source": [
    "level = 7\n",
    "if(level ... 10):\n",
    "    print(\"you must be level 10 or more to continue!\")"
   ]
  },
  {
   "cell_type": "markdown",
   "id": "1d249895-2d9d-4912-850f-b2a3d6bb9878",
   "metadata": {},
   "source": [
    "# Latihan soal IF #2\n",
    "\n",
    "name = input(“What is your name: “) #input nama\n",
    "\n",
    "if(name == “John”) : \n",
    "   print(“I think your name is John”)\n",
    "Else:\n",
    "   print(“Done”)\n",
    "\n",
    "> Dari kode di atas, jika pengguna meng-input “John”, apa yang akan ditampilkan di layar?\n"
   ]
  },
  {
   "cell_type": "code",
   "execution_count": null,
   "id": "7d1acc7a-04dd-4780-9b50-50a12fba97ba",
   "metadata": {},
   "outputs": [],
   "source": [
    "name = input(\"What is your name: \"); #input nama\n",
    "\n",
    "if(name == \"John\") :\n",
    "    ...\n",
    "else:\n",
    "    ...\n",
    "\n"
   ]
  },
  {
   "cell_type": "markdown",
   "id": "d9e9f41f-75a7-4f43-94fe-f99d1a6cbf7d",
   "metadata": {},
   "source": [
    "# Latihan soal IF#3\n",
    "\n",
    "Bu Jasmin ditugaskan untuk membuat program otomatis yang dimana jika nilai di bawah nilai kkm(70) akan menghasilkan output string “Maaf nilai kamu belum memenuhi syarat”. \n",
    "\n",
    "Dan pada akhir kode juga akan menghasilkan output “Tetap semangat dan jangan putus asa” meskipun nilai tidak dibawah KKM.\n",
    "\n",
    "Bantulah Bu Jasmin untuk membuat program tersebut dengan 2 kondisi yang berbeda!\n"
   ]
  },
  {
   "cell_type": "code",
   "execution_count": null,
   "id": "7bdb12f5-4657-4b06-b3f7-a2df19abc624",
   "metadata": {},
   "outputs": [],
   "source": [
    "kkm = float(input(\"Masukkan Nilai kamu: \"))\n",
    "\n",
    "..."
   ]
  },
  {
   "cell_type": "markdown",
   "id": "f54bb61f-970c-4e54-bd3a-d95d58c0bb17",
   "metadata": {},
   "source": [
    "# PERCABANGAN\n",
    "\n",
    "### IF – ELSE\n"
   ]
  },
  {
   "cell_type": "code",
   "execution_count": null,
   "id": "672129a9-65ca-45f9-813e-1adeffa0f4d9",
   "metadata": {},
   "outputs": [],
   "source": [
    "nilai = 3\n",
    "\n",
    "if(nilai>7):\n",
    "    print(\"Selamat Anda Lulus\")\n",
    "else:\n",
    "    print(\"Maaf Anda tidak Lulus\")"
   ]
  },
  {
   "cell_type": "code",
   "execution_count": null,
   "id": "46b33ec1-e5d0-4d3c-a6e6-81f6c17ac4e6",
   "metadata": {},
   "outputs": [],
   "source": [
    "nilai = float(input(\"Masukkan nilai kamu: (antara 0 s.d. 10)\"))\n",
    "\n",
    "if(nilai>7):\n",
    "    print(\"Selamat Anda Lulus\")\n",
    "else:\n",
    "    print(\"Maaf Anda tidak Lulus\")"
   ]
  },
  {
   "cell_type": "markdown",
   "id": "27f9d772-1b3b-4185-982a-4ee72fc2721a",
   "metadata": {},
   "source": [
    "# Latihan soal IF ELSE #1\n",
    "\n",
    "Dari kode berikut ini, apa saja input yang harus kamu masukkan agar kode menjalankan blok else?\n",
    "\n",
    "> if (speed < 50): \n",
    "    print (“You’re under the speed limit, keep up!”)\n",
    "\n",
    "> else: \n",
    "   print (“You’re above the speed limit! Please deccelerate”)\n",
    "\n",
    "##### a. 55\n",
    "##### b. 45\n",
    "##### c. 60\n",
    "##### d. 50\n"
   ]
  },
  {
   "cell_type": "code",
   "execution_count": null,
   "id": "51031ace-1a16-449b-b474-b6df0c4036d0",
   "metadata": {},
   "outputs": [],
   "source": [
    "speed = float(input(\"Kecepatan mobil kamu: \"))\n",
    "\n",
    "if(speed < 50): \n",
    "    print(\"You’re under the speed limit, keep up!\")\n",
    "else: \n",
    "    print(\"You’re above the speed limit! Please deccelerate\")"
   ]
  },
  {
   "cell_type": "markdown",
   "id": "c7773c48-bbfc-4dab-b3f0-02bc196fd805",
   "metadata": {},
   "source": [
    "# Latihan soal IF ELSE #2\n",
    "\n",
    "Terdapat 2 orang yang bingung untuk memutuskan apakah mereka akan membeli es krim atau tidak. Orang pertama memiliki uang sebesar 12.000 sedangkan orang kedua memiliki uang sebesar 9.000. Setelah melihat daftar menu ternyata es krim dijual dengan harga 10.000.\n",
    "\n",
    "Buatlah program otomatis yang menggambarkan kasus tersebut. Yang dimana user akan memasukkan jumlah uang yang dimiliki dan program akan menentukan apakah uang tersebut cukup untuk membeli es krim atau tidak!\n"
   ]
  },
  {
   "cell_type": "markdown",
   "id": "fd810a48-2bfd-4920-9ec2-a4b2b688628c",
   "metadata": {},
   "source": [
    "# PERCABANGAN\n",
    "\n",
    "## ELIF\n",
    "Pengambilan keputusan (kondisi if elif) merupakan lanjutan/percabangan logika dari “kondisi if”. Dengan elif kita bisa membuat kode program yang akan menyeleksi beberapa kemungkinan yang bisa terjadi. Hampir sama dengan kondisi “else”, bedanya kondisi “elif” bisa banyak dan tidak hanya satu.\n",
    "\n",
    "<img src=\"https://i.ibb.co/cFhGRXh/ELIF.jpg\" />"
   ]
  },
  {
   "cell_type": "code",
   "execution_count": null,
   "id": "ba795206-1f0e-402b-b6f7-16fcd55595fe",
   "metadata": {},
   "outputs": [],
   "source": [
    "hari_ini=\"Minggu\"\n",
    "\n",
    "if(hari_ini ==\"Senin\"):\n",
    "    print(\"Saya akan kuliah\")\n",
    "elif(hari_ini ==\"Selasa\"):\n",
    "    print(\"Saya akan kuliah\")\n",
    "elif(hari_ini ==\"Rabu\"):\n",
    "    print(\"Saya akan kuliah\")\n",
    "elif(hari_ini ==\"Kamis\"):\n",
    "    print(\"Saya akan kuliah\")\n",
    "elif(hari_ini ==\"Jumat\"):\n",
    "    print(\"Saya akan kuliah\")\n",
    "elif(hari_ini ==\"Sabtu\"):\n",
    "    print(\"Saya akan kuliah\")\n",
    "elif(hari_ini ==\"Minggu\"):\n",
    "    print(\"Saya akan libur\")\n"
   ]
  },
  {
   "cell_type": "markdown",
   "id": "68fe7d00-76e3-4273-8d3d-5780f8b3f6cb",
   "metadata": {},
   "source": [
    "# Latihan soal ELIF #1\n",
    "\n",
    "Buatlah program otomatis yang menentukan apakah suatu nilai(skala 1-100) termasuk ke dalam A/B/C/D/E\n",
    "\n",
    "<img src=\"https://i.ibb.co/zVkrfp7/konversi.jpg\" alt=\"konversi\" border=\"0\"></a>"
   ]
  },
  {
   "cell_type": "code",
   "execution_count": 1,
   "id": "313e6a65-c6b6-4bb1-bda9-eba6426ff746",
   "metadata": {},
   "outputs": [
    {
     "name": "stdout",
     "output_type": "stream",
     "text": [
      "Masukkan nilai Anda:  9\n"
     ]
    },
    {
     "name": "stdout",
     "output_type": "stream",
     "text": [
      "Konversi nilai Anda adalah E\n"
     ]
    }
   ],
   "source": [
    "angka=float(input(\"Masukkan nilai Anda: \"))\n",
    "\n",
    "if angka ...:\n"
   ]
  },
  {
   "attachments": {},
   "cell_type": "markdown",
   "id": "48eb7c9e-8c88-42c6-a132-71d322ae0ff8",
   "metadata": {},
   "source": [
    "# APLIKASI KALKULATOR SEDERHANA\n",
    "\n",
    "Kita akan membuat aplikasi kalkulator sederhana yang memuat 4 operasi sederhana yaitu tambah, kurang, kali, dan bagi\n",
    "\n",
    "1. Pertama-tama, saat aplikasi dijalankan pengguna bisa melihat output pada terminal bertuliskan “Kalkulator Sederhana”. Kemudian dilanjutkan dibawahnya yaitu terdapat daftar 4 operator aritmatika yang tersedia. Kita juga akan menambahkan semacam bingkai untuk membatasi antar konten yang ada agar lebih mudah dan indah untuk dilihat\n",
    "\n",
    "2. Setelah itu, pengguna dapat mulai meng-input data berupa angka pertama, operasi yang akan digunakan, dan angka kedua\n",
    "3. Pengguna dapat langsung melihat hasil dari operasi pada angka yang diberikan dan aplikasi selesai\n",
    "4. Untuk pembagian, jika pembaginya (angka 2) adalah 0, maka hasilnya adalah \"Tidak terdefinisi\"\n"
   ]
  },
  {
   "cell_type": "code",
   "execution_count": 1,
   "id": "446386fc-fc5d-425d-a86f-191635f1514f",
   "metadata": {},
   "outputs": [
    {
     "name": "stdout",
     "output_type": "stream",
     "text": [
      "______________________________\n",
      "Kalkulator Sederhana\n",
      "______________________________\n",
      "\n",
      "Daftar Operator: \n",
      "1) + (Penjumlahan)\n",
      "2) - (Pengurangan)\n",
      "3) x (Perkalian)\n",
      "4) : (Pembagian)\n",
      "______________________________\n"
     ]
    }
   ],
   "source": [
    "print(\"_\"*30)\n",
    "print(\"Kalkulator Sederhana\")\n",
    "print(\"_\"*30)\n",
    "\n",
    "print(\"\\nDaftar Operator: \")\n",
    "print(\"1) + (Penjumlahan)\")\n",
    "print(\"2) - (Pengurangan)\")\n",
    "print(\"3) x (Perkalian)\")\n",
    "print(\"4) : (Pembagian)\")\n",
    "print(\"_\"*30)\n",
    "\n",
    "angka_1 = ...\n",
    "operasi = ...\n",
    "angka_2 = ...\n",
    "\n",
    "if operasi==1:  # penjumlahan\n",
    "    ...\n",
    "elif operasi==2:  # pengurangan\n",
    "    ...\n",
    "elif operasi==3:  # perkalian\n",
    "    ...\n",
    "elif operasi==4:  # pembagian\n",
    "    ...\n",
    "else:\n",
    "    ..."
   ]
  },
  {
   "cell_type": "code",
   "execution_count": null,
   "id": "cedfcd17-4bf3-4049-8bd7-7eb848a190ca",
   "metadata": {},
   "outputs": [],
   "source": []
  }
 ],
 "metadata": {
  "kernelspec": {
   "display_name": "python_ml",
   "language": "python",
   "name": "python3"
  },
  "language_info": {
   "codemirror_mode": {
    "name": "ipython",
    "version": 3
   },
   "file_extension": ".py",
   "mimetype": "text/x-python",
   "name": "python",
   "nbconvert_exporter": "python",
   "pygments_lexer": "ipython3",
   "version": "3.8.13"
  },
  "vscode": {
   "interpreter": {
    "hash": "0a849ea890f1bb022de5036035253562db138cc51bf17b5dbf4d964c9e20ceef"
   }
  }
 },
 "nbformat": 4,
 "nbformat_minor": 5
}
