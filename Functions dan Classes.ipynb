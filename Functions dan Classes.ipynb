{
 "cells": [
  {
   "cell_type": "markdown",
   "id": "a34ce493-d54b-45e0-9503-fdbaf5d20eb1",
   "metadata": {},
   "source": [
    "# Materi Tambahan"
   ]
  },
  {
   "cell_type": "code",
   "execution_count": 1,
   "id": "e91f1a68-2684-47f2-a8c0-a81cd91fb4ff",
   "metadata": {},
   "outputs": [
    {
     "name": "stderr",
     "output_type": "stream",
     "text": [
      "/Users/ekos/Library/Python/3.9/lib/python/site-packages/ipykernel/ipkernel.py:283: DeprecationWarning: `should_run_async` will not call `transform_cell` automatically in the future. Please pass the result to `transformed_cell` argument and any exception that happen during thetransform in `preprocessing_exc_tuple` in IPython 7.17 and above.\n",
      "  and should_run_async(code)\n"
     ]
    }
   ],
   "source": [
    "import warnings\n",
    "\n",
    "warnings.filterwarnings('ignore')"
   ]
  },
  {
   "cell_type": "code",
   "execution_count": 2,
   "id": "9a24205e-052d-44d3-926b-81de6546d4cb",
   "metadata": {},
   "outputs": [
    {
     "name": "stdout",
     "output_type": "stream",
     "text": [
      "The Zen of Python, by Tim Peters\n",
      "\n",
      "Beautiful is better than ugly.\n",
      "Explicit is better than implicit.\n",
      "Simple is better than complex.\n",
      "Complex is better than complicated.\n",
      "Flat is better than nested.\n",
      "Sparse is better than dense.\n",
      "Readability counts.\n",
      "Special cases aren't special enough to break the rules.\n",
      "Although practicality beats purity.\n",
      "Errors should never pass silently.\n",
      "Unless explicitly silenced.\n",
      "In the face of ambiguity, refuse the temptation to guess.\n",
      "There should be one-- and preferably only one --obvious way to do it.\n",
      "Although that way may not be obvious at first unless you're Dutch.\n",
      "Now is better than never.\n",
      "Although never is often better than *right* now.\n",
      "If the implementation is hard to explain, it's a bad idea.\n",
      "If the implementation is easy to explain, it may be a good idea.\n",
      "Namespaces are one honking great idea -- let's do more of those!\n"
     ]
    }
   ],
   "source": [
    "import this"
   ]
  },
  {
   "cell_type": "markdown",
   "id": "d4c4e8f1-77cf-435f-b2b7-7c1d9aa1db5c",
   "metadata": {},
   "source": [
    "## Function"
   ]
  },
  {
   "cell_type": "code",
   "execution_count": null,
   "id": "ae37640c-0819-445a-afff-80c0875afadc",
   "metadata": {},
   "outputs": [],
   "source": [
    "def halo(nama):\n",
    "    print(\"halo\",nama)"
   ]
  },
  {
   "cell_type": "code",
   "execution_count": null,
   "id": "a143882c-5bc0-49e5-947f-2918bca7b164",
   "metadata": {},
   "outputs": [],
   "source": [
    "halo('budi')"
   ]
  },
  {
   "cell_type": "code",
   "execution_count": null,
   "id": "2d7b3e85-88d4-4c8c-ade9-3e51888aa502",
   "metadata": {},
   "outputs": [],
   "source": [
    "def luas_persegi(sisi):\n",
    "    return sisi**2"
   ]
  },
  {
   "cell_type": "code",
   "execution_count": null,
   "id": "eba5f3f7-e60e-4574-936c-60d94786c8cb",
   "metadata": {},
   "outputs": [],
   "source": [
    "luas_persegi(sisi=12)"
   ]
  },
  {
   "cell_type": "code",
   "execution_count": null,
   "id": "784d51f9-8459-4cf7-a9e4-493f5beba5b3",
   "metadata": {},
   "outputs": [],
   "source": [
    "def nama_depan(nama):\n",
    "    return nama.split(\" \")[0]"
   ]
  },
  {
   "cell_type": "code",
   "execution_count": null,
   "id": "85f88050-d5ed-4636-a7b6-4132691b79ab",
   "metadata": {},
   "outputs": [],
   "source": [
    "nama_depan('eko sup')"
   ]
  },
  {
   "cell_type": "markdown",
   "id": "963d31e9-1ccd-430b-ba4c-83ef08d8ebe6",
   "metadata": {},
   "source": [
    "## Class → Object Oriented Programming"
   ]
  },
  {
   "cell_type": "code",
   "execution_count": 8,
   "id": "80740ae4-9c27-41d7-aebf-4246a95cff17",
   "metadata": {},
   "outputs": [],
   "source": [
    "class Manusia:\n",
    "    def __init__(self, nama):\n",
    "        self.nama = nama\n",
    "        self.makanan = \"nasi\"\n",
    "        \n",
    "    def menyapa(self):\n",
    "        print('halo nama saya', self.nama)\n",
    "        \n",
    "    def makan(self):\n",
    "        print(f\"Hari ini saya makan {self.makanan}\")"
   ]
  },
  {
   "cell_type": "code",
   "execution_count": 9,
   "id": "95355a92-7d63-4acb-8cbf-742d17356aea",
   "metadata": {},
   "outputs": [],
   "source": [
    "siA = Manusia('indra')"
   ]
  },
  {
   "cell_type": "code",
   "execution_count": 12,
   "id": "8de53f5f-70f6-4642-a06d-f333b902c1f5",
   "metadata": {},
   "outputs": [],
   "source": [
    "int_list = [1,2,3,4,5,0]"
   ]
  },
  {
   "cell_type": "code",
   "execution_count": 17,
   "id": "c0af7ac4-3659-4bd4-be78-008ab52b690a",
   "metadata": {},
   "outputs": [],
   "source": []
  },
  {
   "cell_type": "code",
   "execution_count": 18,
   "id": "ed7be45b-aa39-4b3b-ab7d-a27c07fff873",
   "metadata": {},
   "outputs": [],
   "source": [
    "a_list"
   ]
  },
  {
   "cell_type": "code",
   "execution_count": 10,
   "id": "71684d6f-c279-4eab-a104-8d0fd8d4a942",
   "metadata": {},
   "outputs": [
    {
     "name": "stdout",
     "output_type": "stream",
     "text": [
      "halo nama saya indra\n"
     ]
    }
   ],
   "source": [
    "# method\n",
    "siA.menyapa()"
   ]
  },
  {
   "cell_type": "code",
   "execution_count": 11,
   "id": "546c4b08-59b3-49bf-8243-2d02b4957c6b",
   "metadata": {},
   "outputs": [
    {
     "name": "stdout",
     "output_type": "stream",
     "text": [
      "Hari ini saya makan nasi\n"
     ]
    }
   ],
   "source": [
    "siA.makan()"
   ]
  },
  {
   "cell_type": "code",
   "execution_count": null,
   "id": "a34a3083-49ab-4843-a7dc-950ba5799046",
   "metadata": {},
   "outputs": [],
   "source": [
    "#attribute\n",
    "nama.nama"
   ]
  },
  {
   "cell_type": "code",
   "execution_count": null,
   "id": "e746aa24-60c2-4272-98a7-d23ca33bd47d",
   "metadata": {},
   "outputs": [],
   "source": [
    "#buatlah sebuah class segitiga dengan input alas dan tinggi lalu buat fungsi luas dan kelilingnya\n",
    "#asumsi segitiga hanya segitiga siku-siku\n",
    "\n",
    "class segitiga():\n",
    "    def __init__(self,alas,tinggi):\n",
    "        self.alas = alas\n",
    "        self.tinggi = tinggi\n",
    "        self.miring = (alas**2+tinggi**2)**(1/2)\n",
    "        \n",
    "    def luas(self):\n",
    "        return 1/2*self.alas*self.tinggi\n",
    "    \n",
    "    def keliling(self):\n",
    "        return self.alas+self.miring+self.tinggi"
   ]
  },
  {
   "cell_type": "code",
   "execution_count": null,
   "id": "01266bf4-00f1-44de-ac95-d16eeb6cb552",
   "metadata": {},
   "outputs": [],
   "source": [
    "segitiga_1 = segitiga(4,5)"
   ]
  },
  {
   "cell_type": "code",
   "execution_count": null,
   "id": "cdf274e2-03c2-4d61-a47f-9f9990d0097d",
   "metadata": {},
   "outputs": [],
   "source": [
    "segitiga_1.miring"
   ]
  },
  {
   "cell_type": "code",
   "execution_count": null,
   "id": "1658f99d-1e87-4775-8aae-ad320b50c505",
   "metadata": {},
   "outputs": [],
   "source": [
    "segitiga_1.keliling()"
   ]
  },
  {
   "cell_type": "code",
   "execution_count": null,
   "id": "1dbab165-05e3-4bd8-bb25-4bc4a5f213f0",
   "metadata": {},
   "outputs": [],
   "source": [
    "segitiga_1.luas()"
   ]
  },
  {
   "cell_type": "code",
   "execution_count": null,
   "id": "61d436d8-8a33-4d95-ba61-22ed6d7a8309",
   "metadata": {},
   "outputs": [],
   "source": [
    "kota = 'jakarta'\n",
    "print([x for x in kota])"
   ]
  },
  {
   "cell_type": "code",
   "execution_count": null,
   "id": "f103c28d-09b6-4599-90bc-8d4458111cd9",
   "metadata": {},
   "outputs": [],
   "source": [
    "def cek(angka):\n",
    "    if angka < 5:\n",
    "        print(angka)\n",
    "        angka += 1\n",
    "        cek(angka)\n",
    "    else:\n",
    "        pass"
   ]
  },
  {
   "cell_type": "code",
   "execution_count": null,
   "id": "15c13b83-d532-4a31-b3ff-77bbc576c874",
   "metadata": {},
   "outputs": [],
   "source": [
    "angka = [1,2,3,4,5,6]"
   ]
  },
  {
   "cell_type": "code",
   "execution_count": null,
   "id": "cd506d46-8768-49d9-9af1-452df18da2c3",
   "metadata": {},
   "outputs": [],
   "source": [
    "angka*2"
   ]
  },
  {
   "cell_type": "code",
   "execution_count": null,
   "id": "78c7c64e-bde2-4014-bedb-9a43a929066c",
   "metadata": {},
   "outputs": [],
   "source": [
    "angka_kali_2 = [x*2 for x in angka]\n",
    "angka_kali_2"
   ]
  },
  {
   "cell_type": "code",
   "execution_count": null,
   "id": "bb98f0d5-c4c9-4b58-9982-19df07c7d78f",
   "metadata": {},
   "outputs": [],
   "source": []
  }
 ],
 "metadata": {
  "kernelspec": {
   "display_name": "Python 3",
   "language": "python",
   "name": "python3"
  },
  "language_info": {
   "codemirror_mode": {
    "name": "ipython",
    "version": 3
   },
   "file_extension": ".py",
   "mimetype": "text/x-python",
   "name": "python",
   "nbconvert_exporter": "python",
   "pygments_lexer": "ipython3",
   "version": "3.9.13"
  }
 },
 "nbformat": 4,
 "nbformat_minor": 5
}
