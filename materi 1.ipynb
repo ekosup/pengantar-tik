{
 "cells": [
  {
   "cell_type": "markdown",
   "metadata": {
    "id": "a2nBfZzjMCyx"
   },
   "source": [
    "**Let's do some python code**\n",
    "\n",
    "- content\n",
    "   - Python in jupyter notebook, colabs\n",
    "   - Intro python simple code\n",
    "   - Reading some flat file ( csv, xls )\n",
    "   - Data manipulation\n",
    "   - Python data visualization\n",
    "   - Extra content"
   ]
  },
  {
   "cell_type": "markdown",
   "metadata": {
    "id": "3ZxeT-XwRHzd",
    "tags": []
   },
   "source": [
    "# Python in jupyter notebook, colabs"
   ]
  },
  {
   "cell_type": "markdown",
   "metadata": {
    "id": "1DFgnp6jNbLj"
   },
   "source": [
    "On coding session, we commonly know ***Hello World*** to start the code. In python, we can start coding as simple as print('Hello World'), try it and press **`shift + enter`**"
   ]
  },
  {
   "cell_type": "code",
   "execution_count": null,
   "metadata": {
    "colab": {
     "base_uri": "https://localhost:8080/",
     "height": 54
    },
    "id": "YWaZsB3ZNZia",
    "outputId": "a44c1f1d-f8be-46e7-9a66-02ebfa89b177"
   },
   "outputs": [
    {
     "name": "stdout",
     "output_type": "stream",
     "text": [
      "Hello Workshop Narasiodata\n"
     ]
    }
   ],
   "source": [
    "print('Hello Workshop Data Science Python Polinema')"
   ]
  },
  {
   "cell_type": "code",
   "execution_count": null,
   "metadata": {
    "colab": {
     "base_uri": "https://localhost:8080/",
     "height": 54
    },
    "id": "nFeLLms5PSrP",
    "outputId": "72cddf3f-e3d7-42a3-b602-2f11f049d245"
   },
   "outputs": [
    {
     "name": "stdout",
     "output_type": "stream",
     "text": [
      "Halo saya Adam\n"
     ]
    }
   ],
   "source": [
    "# this is comment code on this line\n",
    "\n",
    "print('Halo saya Adam')"
   ]
  },
  {
   "cell_type": "code",
   "execution_count": null,
   "metadata": {
    "colab": {
     "base_uri": "https://localhost:8080/",
     "height": 71
    },
    "id": "Wuw3dA6jPS0S",
    "outputId": "167ae7b2-395d-42c9-b096-7436d4539559"
   },
   "outputs": [
    {
     "name": "stdout",
     "output_type": "stream",
     "text": [
      "Current date and time is not UTC + 7: \n",
      "2020-08-29 04:04:36.651963\n"
     ]
    }
   ],
   "source": [
    "import datetime\n",
    "\n",
    "now = datetime.datetime.today() \n",
    "print(\"Current date and time is not UTC + 7: \") \n",
    "print(now)"
   ]
  },
  {
   "cell_type": "markdown",
   "metadata": {
    "id": "HV3QwYT4RNQZ"
   },
   "source": [
    "# Intro python simple code"
   ]
  },
  {
   "cell_type": "markdown",
   "metadata": {
    "id": "t3NncJqKQYOP"
   },
   "source": [
    "There are some data types on python\n",
    "<img src = \"https://miro.medium.com/max/3576/1*QfI8H_8HplGa1v9IrrWjBA.png\" />"
   ]
  },
  {
   "cell_type": "code",
   "execution_count": null,
   "metadata": {
    "colab": {
     "base_uri": "https://localhost:8080/",
     "height": 54
    },
    "id": "A7ZTovz5PS9Z",
    "outputId": "e681d15a-cf9c-4b43-896d-e124fee0eca6"
   },
   "outputs": [
    {
     "data": {
      "text/plain": [
       "5"
      ]
     },
     "execution_count": 18,
     "metadata": {
      "tags": []
     },
     "output_type": "execute_result"
    }
   ],
   "source": [
    "3 + 4 - 2"
   ]
  },
  {
   "cell_type": "markdown",
   "metadata": {
    "id": "4P49iFrZSEjS"
   },
   "source": [
    "Python well-accepted mathematical operator\n",
    "<img src = \"https://miro.medium.com/max/1400/1*XCOKzXaTZVWkU-g7ZGdqKQ.png\" />"
   ]
  },
  {
   "cell_type": "code",
   "execution_count": null,
   "metadata": {
    "colab": {
     "base_uri": "https://localhost:8080/",
     "height": 54
    },
    "id": "k3MnHEmrR72E",
    "outputId": "9bbb32ad-80d8-4f78-d3e3-f4331beb162e"
   },
   "outputs": [
    {
     "data": {
      "text/plain": [
       "0.4"
      ]
     },
     "execution_count": 19,
     "metadata": {
      "tags": []
     },
     "output_type": "execute_result"
    }
   ],
   "source": [
    "2 / 5"
   ]
  },
  {
   "cell_type": "code",
   "execution_count": null,
   "metadata": {
    "colab": {
     "base_uri": "https://localhost:8080/",
     "height": 54
    },
    "id": "cGut_PmBR773",
    "outputId": "6b49dcb9-23be-463f-c296-1c3b1a962172"
   },
   "outputs": [
    {
     "data": {
      "text/plain": [
       "0"
      ]
     },
     "execution_count": 20,
     "metadata": {
      "tags": []
     },
     "output_type": "execute_result"
    }
   ],
   "source": [
    "2 // 5"
   ]
  },
  {
   "cell_type": "code",
   "execution_count": null,
   "metadata": {
    "colab": {
     "base_uri": "https://localhost:8080/",
     "height": 54
    },
    "id": "FILIu_myR8AT",
    "outputId": "38ffb802-fb79-4cbb-fb60-160b3397803b"
   },
   "outputs": [
    {
     "data": {
      "text/plain": [
       "1"
      ]
     },
     "execution_count": 21,
     "metadata": {
      "tags": []
     },
     "output_type": "execute_result"
    }
   ],
   "source": [
    "5 % 2"
   ]
  },
  {
   "cell_type": "code",
   "execution_count": null,
   "metadata": {
    "colab": {
     "base_uri": "https://localhost:8080/",
     "height": 54
    },
    "id": "1XOI9TEsSVL5",
    "outputId": "d7d5ece9-cd1f-4725-cd87-91ad26f33d25"
   },
   "outputs": [
    {
     "data": {
      "text/plain": [
       "False"
      ]
     },
     "execution_count": 22,
     "metadata": {
      "tags": []
     },
     "output_type": "execute_result"
    }
   ],
   "source": [
    "5 < 4"
   ]
  },
  {
   "cell_type": "code",
   "execution_count": null,
   "metadata": {
    "colab": {
     "base_uri": "https://localhost:8080/",
     "height": 54
    },
    "id": "aE3oMlc2Saup",
    "outputId": "95786366-603e-4232-8f95-0ccce4ae7d40"
   },
   "outputs": [
    {
     "data": {
      "text/plain": [
       "180"
      ]
     },
     "execution_count": 23,
     "metadata": {
      "tags": []
     },
     "output_type": "execute_result"
    }
   ],
   "source": [
    "100 + 40 * 2"
   ]
  },
  {
   "cell_type": "code",
   "execution_count": null,
   "metadata": {
    "colab": {
     "base_uri": "https://localhost:8080/",
     "height": 54
    },
    "id": "i1-kS6OpSdxw",
    "outputId": "0112e19e-07ba-41fb-f684-9e4188ca05a9"
   },
   "outputs": [
    {
     "data": {
      "text/plain": [
       "280"
      ]
     },
     "execution_count": 28,
     "metadata": {
      "tags": []
     },
     "output_type": "execute_result"
    }
   ],
   "source": [
    "( 100 + 40 ) * 2"
   ]
  },
  {
   "cell_type": "code",
   "execution_count": null,
   "metadata": {
    "id": "ORnSC9T-aY-u"
   },
   "outputs": [],
   "source": [
    "a = 1200"
   ]
  },
  {
   "cell_type": "code",
   "execution_count": null,
   "metadata": {
    "id": "mzM59FaESsQT"
   },
   "outputs": [],
   "source": [
    "# we need to store it into 'variable' , so we can use it later\n",
    "a = 20"
   ]
  },
  {
   "cell_type": "code",
   "execution_count": null,
   "metadata": {
    "colab": {
     "base_uri": "https://localhost:8080/",
     "height": 54
    },
    "id": "8kGLhvYfS4T3",
    "outputId": "d6b13694-64fc-48c9-929d-f21d7d1a1325"
   },
   "outputs": [
    {
     "data": {
      "text/plain": [
       "1200"
      ]
     },
     "execution_count": 30,
     "metadata": {
      "tags": []
     },
     "output_type": "execute_result"
    }
   ],
   "source": [
    "a"
   ]
  },
  {
   "cell_type": "code",
   "execution_count": null,
   "metadata": {
    "id": "N8bAugsYS9im"
   },
   "outputs": [],
   "source": [
    "b = 40"
   ]
  },
  {
   "cell_type": "code",
   "execution_count": null,
   "metadata": {
    "colab": {
     "base_uri": "https://localhost:8080/",
     "height": 54
    },
    "id": "VO7BbsDuS_fL",
    "outputId": "85c35079-bd4c-4dbc-f7b5-ca87aa3eb91a"
   },
   "outputs": [
    {
     "data": {
      "text/plain": [
       "1160"
      ]
     },
     "execution_count": 32,
     "metadata": {
      "tags": []
     },
     "output_type": "execute_result"
    }
   ],
   "source": [
    "a - b"
   ]
  },
  {
   "cell_type": "markdown",
   "metadata": {
    "id": "a80EmZNnTI__"
   },
   "source": [
    "How about \n",
    "\n",
    "- a = ( 20 * 40 / 7 ) * 20\n",
    "- b = 100 + 32 - 12 * 2\n",
    "- z = a * b"
   ]
  },
  {
   "cell_type": "code",
   "execution_count": null,
   "metadata": {
    "id": "ykvx6gOzSum1"
   },
   "outputs": [],
   "source": [
    "a = ( 20 * 40 / 7 ) * 20\n",
    "b = 100 + 32 - 12 * 2"
   ]
  },
  {
   "cell_type": "code",
   "execution_count": null,
   "metadata": {
    "colab": {
     "base_uri": "https://localhost:8080/",
     "height": 54
    },
    "id": "lToTDQCSawXF",
    "outputId": "c69e89fb-e40c-4e17-b507-82bb24b7face"
   },
   "outputs": [
    {
     "name": "stdout",
     "output_type": "stream",
     "text": [
      "246857.14285714287\n"
     ]
    }
   ],
   "source": [
    "z = a * b\n",
    "\n",
    "print(z)"
   ]
  },
  {
   "cell_type": "markdown",
   "metadata": {
    "id": "pcCGr3cvTlKH"
   },
   "source": [
    "### Now, about string type ( commonly found in some cases )"
   ]
  },
  {
   "cell_type": "markdown",
   "metadata": {},
   "source": [
    "<img src=\"https://www.wikitechy.com/tutorials/python/img/python-images/useful-string-functions-and-methods.png\" />"
   ]
  },
  {
   "cell_type": "code",
   "execution_count": null,
   "metadata": {
    "id": "HRLWnc-sUf6q"
   },
   "outputs": [],
   "source": [
    "python = 'awesome! come and join us!'"
   ]
  },
  {
   "cell_type": "code",
   "execution_count": null,
   "metadata": {
    "colab": {
     "base_uri": "https://localhost:8080/",
     "height": 58
    },
    "id": "jWMlIozoUgV-",
    "outputId": "74ffd83b-9d61-46bc-b6f2-e43890fb528f"
   },
   "outputs": [
    {
     "data": {
      "application/vnd.google.colaboratory.intrinsic+json": {
       "type": "string"
      },
      "text/plain": [
       "'awesome! come and join us!'"
      ]
     },
     "execution_count": 36,
     "metadata": {
      "tags": []
     },
     "output_type": "execute_result"
    }
   ],
   "source": [
    "python"
   ]
  },
  {
   "cell_type": "code",
   "execution_count": null,
   "metadata": {
    "colab": {
     "base_uri": "https://localhost:8080/",
     "height": 54
    },
    "id": "s5PfC0S3UgiF",
    "outputId": "456882e7-e545-49f6-d13b-2e5b49983f6e"
   },
   "outputs": [
    {
     "data": {
      "text/plain": [
       "26"
      ]
     },
     "execution_count": 37,
     "metadata": {
      "tags": []
     },
     "output_type": "execute_result"
    }
   ],
   "source": [
    "len(python)"
   ]
  },
  {
   "cell_type": "code",
   "execution_count": null,
   "metadata": {
    "colab": {
     "base_uri": "https://localhost:8080/",
     "height": 58
    },
    "id": "5E9FjMDoUvp2",
    "outputId": "b0c36628-173f-479e-ac8a-be839f764ea9"
   },
   "outputs": [
    {
     "data": {
      "application/vnd.google.colaboratory.intrinsic+json": {
       "type": "string"
      },
      "text/plain": [
       "'AWESOME! COME AND JOIN US!'"
      ]
     },
     "execution_count": 38,
     "metadata": {
      "tags": []
     },
     "output_type": "execute_result"
    }
   ],
   "source": [
    "python.upper()"
   ]
  },
  {
   "cell_type": "code",
   "execution_count": null,
   "metadata": {
    "colab": {
     "base_uri": "https://localhost:8080/",
     "height": 58
    },
    "id": "PRSXyoC0U2G-",
    "outputId": "d975a67b-9b32-473f-aef4-bd49a307c36a"
   },
   "outputs": [
    {
     "data": {
      "application/vnd.google.colaboratory.intrinsic+json": {
       "type": "string"
      },
      "text/plain": [
       "'a'"
      ]
     },
     "execution_count": 39,
     "metadata": {
      "tags": []
     },
     "output_type": "execute_result"
    }
   ],
   "source": [
    "python[0]"
   ]
  },
  {
   "cell_type": "code",
   "execution_count": null,
   "metadata": {
    "colab": {
     "base_uri": "https://localhost:8080/",
     "height": 58
    },
    "id": "kQNUDCCqU2Vy",
    "outputId": "125c24da-2b9e-445c-cee3-75a929a177fd"
   },
   "outputs": [
    {
     "data": {
      "application/vnd.google.colaboratory.intrinsic+json": {
       "type": "string"
      },
      "text/plain": [
       "'awesome!'"
      ]
     },
     "execution_count": 40,
     "metadata": {
      "tags": []
     },
     "output_type": "execute_result"
    }
   ],
   "source": [
    "python[0:8]"
   ]
  },
  {
   "cell_type": "code",
   "execution_count": null,
   "metadata": {
    "colab": {
     "base_uri": "https://localhost:8080/",
     "height": 58
    },
    "id": "HVdxqNe8VEMB",
    "outputId": "0daef4d9-4bd2-41af-defd-a662d00197e5"
   },
   "outputs": [
    {
     "data": {
      "application/vnd.google.colaboratory.intrinsic+json": {
       "type": "string"
      },
      "text/plain": [
       "'come and join us!'"
      ]
     },
     "execution_count": 41,
     "metadata": {
      "tags": []
     },
     "output_type": "execute_result"
    }
   ],
   "source": [
    "python[9:]"
   ]
  },
  {
   "cell_type": "code",
   "execution_count": null,
   "metadata": {
    "colab": {
     "base_uri": "https://localhost:8080/",
     "height": 54
    },
    "id": "xyh-YfBrbrgB",
    "outputId": "7b9436f2-7e11-4c98-eebb-6c12a7e32059"
   },
   "outputs": [
    {
     "data": {
      "text/plain": [
       "str"
      ]
     },
     "execution_count": 42,
     "metadata": {
      "tags": []
     },
     "output_type": "execute_result"
    }
   ],
   "source": [
    "type(python)"
   ]
  },
  {
   "cell_type": "markdown",
   "metadata": {
    "id": "HKpPsFT4RSZo"
   },
   "source": [
    "# Read some flat file ( CSV, XLS )"
   ]
  },
  {
   "cell_type": "code",
   "execution_count": null,
   "metadata": {
    "id": "Aly9dqjhzxp5"
   },
   "outputs": [],
   "source": [
    "import pandas as pd"
   ]
  },
  {
   "cell_type": "markdown",
   "metadata": {
    "id": "5s3UQDIIz1Xp"
   },
   "source": [
    "**pandas** is a fast, powerful, flexible and easy to use open source data analysis and manipulation tool,\n",
    "built on top of the Python programming language.\n",
    "\n",
    "### not this one\n",
    "\n",
    "<img src=\"data:image/jpeg;base64,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\" />\n",
    "\n",
    "# **But this one** \n",
    "\n",
    "<img src=\"https://numfocus.org/wp-content/uploads/2016/07/pandas-logo-300.png\" />"
   ]
  },
  {
   "cell_type": "markdown",
   "metadata": {
    "id": "jrdlPFbQkGl9"
   },
   "source": [
    "### https://colab.research.google.com"
   ]
  },
  {
   "cell_type": "code",
   "execution_count": null,
   "metadata": {
    "colab": {
     "base_uri": "https://localhost:8080/",
     "height": 34
    },
    "id": "aYKIQ-P4kUnd",
    "outputId": "03ea7492-1176-4b7d-8cac-abc8cf2d818f"
   },
   "outputs": [
    {
     "data": {
      "text/plain": [
       "8"
      ]
     },
     "execution_count": 1,
     "metadata": {
      "tags": []
     },
     "output_type": "execute_result"
    }
   ],
   "source": [
    "3 + 5"
   ]
  },
  {
   "cell_type": "code",
   "execution_count": null,
   "metadata": {
    "colab": {
     "base_uri": "https://localhost:8080/",
     "height": 34
    },
    "id": "6CIs_sU7ke65",
    "outputId": "72ecca35-ff14-43ba-f1c5-092cb6066c23"
   },
   "outputs": [
    {
     "name": "stdout",
     "output_type": "stream",
     "text": [
      "Sekarang sesi workshop bersama\n"
     ]
    }
   ],
   "source": [
    "print('Sekarang sesi workshop bersama')"
   ]
  },
  {
   "cell_type": "code",
   "execution_count": null,
   "metadata": {
    "id": "PKOYABspI6gv"
   },
   "outputs": [],
   "source": [
    "df = pd.read_csv('data/california_housing_test.csv')"
   ]
  },
  {
   "cell_type": "code",
   "execution_count": null,
   "metadata": {
    "colab": {
     "base_uri": "https://localhost:8080/",
     "height": 439
    },
    "id": "nkwh5C3xJbHs",
    "outputId": "30151f95-f0e2-46a6-aa92-d7e6d5e9dc3d"
   },
   "outputs": [
    {
     "data": {
      "text/html": [
       "<div>\n",
       "<style scoped>\n",
       "    .dataframe tbody tr th:only-of-type {\n",
       "        vertical-align: middle;\n",
       "    }\n",
       "\n",
       "    .dataframe tbody tr th {\n",
       "        vertical-align: top;\n",
       "    }\n",
       "\n",
       "    .dataframe thead th {\n",
       "        text-align: right;\n",
       "    }\n",
       "</style>\n",
       "<table border=\"1\" class=\"dataframe\">\n",
       "  <thead>\n",
       "    <tr style=\"text-align: right;\">\n",
       "      <th></th>\n",
       "      <th>longitude</th>\n",
       "      <th>latitude</th>\n",
       "      <th>housing_median_age</th>\n",
       "      <th>total_rooms</th>\n",
       "      <th>total_bedrooms</th>\n",
       "      <th>population</th>\n",
       "      <th>households</th>\n",
       "      <th>median_income</th>\n",
       "      <th>median_house_value</th>\n",
       "    </tr>\n",
       "  </thead>\n",
       "  <tbody>\n",
       "    <tr>\n",
       "      <th>0</th>\n",
       "      <td>-122.05</td>\n",
       "      <td>37.37</td>\n",
       "      <td>27.0</td>\n",
       "      <td>3885.0</td>\n",
       "      <td>661.0</td>\n",
       "      <td>1537.0</td>\n",
       "      <td>606.0</td>\n",
       "      <td>6.6085</td>\n",
       "      <td>344700.0</td>\n",
       "    </tr>\n",
       "    <tr>\n",
       "      <th>1</th>\n",
       "      <td>-118.30</td>\n",
       "      <td>34.26</td>\n",
       "      <td>43.0</td>\n",
       "      <td>1510.0</td>\n",
       "      <td>310.0</td>\n",
       "      <td>809.0</td>\n",
       "      <td>277.0</td>\n",
       "      <td>3.5990</td>\n",
       "      <td>176500.0</td>\n",
       "    </tr>\n",
       "    <tr>\n",
       "      <th>2</th>\n",
       "      <td>-117.81</td>\n",
       "      <td>33.78</td>\n",
       "      <td>27.0</td>\n",
       "      <td>3589.0</td>\n",
       "      <td>507.0</td>\n",
       "      <td>1484.0</td>\n",
       "      <td>495.0</td>\n",
       "      <td>5.7934</td>\n",
       "      <td>270500.0</td>\n",
       "    </tr>\n",
       "    <tr>\n",
       "      <th>3</th>\n",
       "      <td>-118.36</td>\n",
       "      <td>33.82</td>\n",
       "      <td>28.0</td>\n",
       "      <td>67.0</td>\n",
       "      <td>15.0</td>\n",
       "      <td>49.0</td>\n",
       "      <td>11.0</td>\n",
       "      <td>6.1359</td>\n",
       "      <td>330000.0</td>\n",
       "    </tr>\n",
       "    <tr>\n",
       "      <th>4</th>\n",
       "      <td>-119.67</td>\n",
       "      <td>36.33</td>\n",
       "      <td>19.0</td>\n",
       "      <td>1241.0</td>\n",
       "      <td>244.0</td>\n",
       "      <td>850.0</td>\n",
       "      <td>237.0</td>\n",
       "      <td>2.9375</td>\n",
       "      <td>81700.0</td>\n",
       "    </tr>\n",
       "    <tr>\n",
       "      <th>...</th>\n",
       "      <td>...</td>\n",
       "      <td>...</td>\n",
       "      <td>...</td>\n",
       "      <td>...</td>\n",
       "      <td>...</td>\n",
       "      <td>...</td>\n",
       "      <td>...</td>\n",
       "      <td>...</td>\n",
       "      <td>...</td>\n",
       "    </tr>\n",
       "    <tr>\n",
       "      <th>2995</th>\n",
       "      <td>-119.86</td>\n",
       "      <td>34.42</td>\n",
       "      <td>23.0</td>\n",
       "      <td>1450.0</td>\n",
       "      <td>642.0</td>\n",
       "      <td>1258.0</td>\n",
       "      <td>607.0</td>\n",
       "      <td>1.1790</td>\n",
       "      <td>225000.0</td>\n",
       "    </tr>\n",
       "    <tr>\n",
       "      <th>2996</th>\n",
       "      <td>-118.14</td>\n",
       "      <td>34.06</td>\n",
       "      <td>27.0</td>\n",
       "      <td>5257.0</td>\n",
       "      <td>1082.0</td>\n",
       "      <td>3496.0</td>\n",
       "      <td>1036.0</td>\n",
       "      <td>3.3906</td>\n",
       "      <td>237200.0</td>\n",
       "    </tr>\n",
       "    <tr>\n",
       "      <th>2997</th>\n",
       "      <td>-119.70</td>\n",
       "      <td>36.30</td>\n",
       "      <td>10.0</td>\n",
       "      <td>956.0</td>\n",
       "      <td>201.0</td>\n",
       "      <td>693.0</td>\n",
       "      <td>220.0</td>\n",
       "      <td>2.2895</td>\n",
       "      <td>62000.0</td>\n",
       "    </tr>\n",
       "    <tr>\n",
       "      <th>2998</th>\n",
       "      <td>-117.12</td>\n",
       "      <td>34.10</td>\n",
       "      <td>40.0</td>\n",
       "      <td>96.0</td>\n",
       "      <td>14.0</td>\n",
       "      <td>46.0</td>\n",
       "      <td>14.0</td>\n",
       "      <td>3.2708</td>\n",
       "      <td>162500.0</td>\n",
       "    </tr>\n",
       "    <tr>\n",
       "      <th>2999</th>\n",
       "      <td>-119.63</td>\n",
       "      <td>34.42</td>\n",
       "      <td>42.0</td>\n",
       "      <td>1765.0</td>\n",
       "      <td>263.0</td>\n",
       "      <td>753.0</td>\n",
       "      <td>260.0</td>\n",
       "      <td>8.5608</td>\n",
       "      <td>500001.0</td>\n",
       "    </tr>\n",
       "  </tbody>\n",
       "</table>\n",
       "<p>3000 rows × 9 columns</p>\n",
       "</div>"
      ],
      "text/plain": [
       "      longitude  latitude  ...  median_income  median_house_value\n",
       "0       -122.05     37.37  ...         6.6085            344700.0\n",
       "1       -118.30     34.26  ...         3.5990            176500.0\n",
       "2       -117.81     33.78  ...         5.7934            270500.0\n",
       "3       -118.36     33.82  ...         6.1359            330000.0\n",
       "4       -119.67     36.33  ...         2.9375             81700.0\n",
       "...         ...       ...  ...            ...                 ...\n",
       "2995    -119.86     34.42  ...         1.1790            225000.0\n",
       "2996    -118.14     34.06  ...         3.3906            237200.0\n",
       "2997    -119.70     36.30  ...         2.2895             62000.0\n",
       "2998    -117.12     34.10  ...         3.2708            162500.0\n",
       "2999    -119.63     34.42  ...         8.5608            500001.0\n",
       "\n",
       "[3000 rows x 9 columns]"
      ]
     },
     "execution_count": 6,
     "metadata": {
      "tags": []
     },
     "output_type": "execute_result"
    }
   ],
   "source": [
    "df"
   ]
  },
  {
   "cell_type": "code",
   "execution_count": null,
   "metadata": {
    "id": "pzkTCtMfp4W9"
   },
   "outputs": [],
   "source": [
    "workbook_url = 'https://github.com/chris1610/pbpython/raw/master/data/2018_Sales_Total_Tabs.xlsx'\n",
    "df_excel = pd.read_excel(workbook_url,sheet_name=None)"
   ]
  },
  {
   "cell_type": "code",
   "execution_count": null,
   "metadata": {
    "colab": {
     "base_uri": "https://localhost:8080/",
     "height": 54
    },
    "id": "oIA68EDrqA4D",
    "outputId": "503fa180-fa39-4ab5-e134-6cf970af7e8f"
   },
   "outputs": [
    {
     "data": {
      "text/plain": [
       "dict"
      ]
     },
     "execution_count": 49,
     "metadata": {
      "tags": []
     },
     "output_type": "execute_result"
    }
   ],
   "source": [
    "type(df_excel)"
   ]
  },
  {
   "cell_type": "code",
   "execution_count": null,
   "metadata": {
    "colab": {
     "base_uri": "https://localhost:8080/",
     "height": 54
    },
    "id": "URmdB7WyqPnK",
    "outputId": "30c3af0c-0ef0-4b05-c558-140634183990"
   },
   "outputs": [
    {
     "data": {
      "text/plain": [
       "dict_keys(['Sheet1', 'Sheet2', 'Sheet3', 'Sheet4', 'Sheet5', 'Sheet6'])"
      ]
     },
     "execution_count": 50,
     "metadata": {
      "tags": []
     },
     "output_type": "execute_result"
    }
   ],
   "source": [
    "df_excel.keys()"
   ]
  },
  {
   "cell_type": "code",
   "execution_count": null,
   "metadata": {
    "colab": {
     "base_uri": "https://localhost:8080/",
     "height": 100
    },
    "id": "DhlscdUKqVdR",
    "outputId": "ac0cf358-f124-4bd2-e45d-34dcddb6e133"
   },
   "outputs": [
    {
     "data": {
      "text/html": [
       "<div>\n",
       "<style scoped>\n",
       "    .dataframe tbody tr th:only-of-type {\n",
       "        vertical-align: middle;\n",
       "    }\n",
       "\n",
       "    .dataframe tbody tr th {\n",
       "        vertical-align: top;\n",
       "    }\n",
       "\n",
       "    .dataframe thead th {\n",
       "        text-align: right;\n",
       "    }\n",
       "</style>\n",
       "<table border=\"1\" class=\"dataframe\">\n",
       "  <thead>\n",
       "    <tr style=\"text-align: right;\">\n",
       "      <th></th>\n",
       "      <th>account number</th>\n",
       "      <th>name</th>\n",
       "      <th>sku</th>\n",
       "      <th>quantity</th>\n",
       "      <th>unit price</th>\n",
       "      <th>ext price</th>\n",
       "      <th>date</th>\n",
       "    </tr>\n",
       "  </thead>\n",
       "  <tbody>\n",
       "    <tr>\n",
       "      <th>0</th>\n",
       "      <td>412290</td>\n",
       "      <td>Jerde-Hilpert</td>\n",
       "      <td>S2-77896</td>\n",
       "      <td>43</td>\n",
       "      <td>76.66</td>\n",
       "      <td>3296.38</td>\n",
       "      <td>2018-03-04 23:10:28</td>\n",
       "    </tr>\n",
       "  </tbody>\n",
       "</table>\n",
       "</div>"
      ],
      "text/plain": [
       "   account number           name  ... ext price                date\n",
       "0          412290  Jerde-Hilpert  ...   3296.38 2018-03-04 23:10:28\n",
       "\n",
       "[1 rows x 7 columns]"
      ]
     },
     "execution_count": 52,
     "metadata": {
      "tags": []
     },
     "output_type": "execute_result"
    }
   ],
   "source": [
    "df_excel['Sheet1'].head(1)"
   ]
  },
  {
   "cell_type": "code",
   "execution_count": null,
   "metadata": {
    "colab": {
     "base_uri": "https://localhost:8080/",
     "height": 221
    },
    "id": "pcB8gF9yqa69",
    "outputId": "f6379543-a4e7-45ad-d168-e52ac4f12a03"
   },
   "outputs": [
    {
     "data": {
      "text/html": [
       "<div>\n",
       "<style scoped>\n",
       "    .dataframe tbody tr th:only-of-type {\n",
       "        vertical-align: middle;\n",
       "    }\n",
       "\n",
       "    .dataframe tbody tr th {\n",
       "        vertical-align: top;\n",
       "    }\n",
       "\n",
       "    .dataframe thead th {\n",
       "        text-align: right;\n",
       "    }\n",
       "</style>\n",
       "<table border=\"1\" class=\"dataframe\">\n",
       "  <thead>\n",
       "    <tr style=\"text-align: right;\">\n",
       "      <th></th>\n",
       "      <th>account number</th>\n",
       "      <th>name</th>\n",
       "      <th>sku</th>\n",
       "      <th>quantity</th>\n",
       "      <th>unit price</th>\n",
       "      <th>ext price</th>\n",
       "      <th>date</th>\n",
       "    </tr>\n",
       "  </thead>\n",
       "  <tbody>\n",
       "    <tr>\n",
       "      <th>0</th>\n",
       "      <td>740150</td>\n",
       "      <td>Barton LLC</td>\n",
       "      <td>B1-20000</td>\n",
       "      <td>39</td>\n",
       "      <td>86.69</td>\n",
       "      <td>3380.91</td>\n",
       "      <td>2018-01-01 07:21:51</td>\n",
       "    </tr>\n",
       "    <tr>\n",
       "      <th>1</th>\n",
       "      <td>714466</td>\n",
       "      <td>Trantow-Barrows</td>\n",
       "      <td>S2-77896</td>\n",
       "      <td>-1</td>\n",
       "      <td>63.16</td>\n",
       "      <td>-63.16</td>\n",
       "      <td>2018-01-01 10:00:47</td>\n",
       "    </tr>\n",
       "    <tr>\n",
       "      <th>2</th>\n",
       "      <td>218895</td>\n",
       "      <td>Kulas Inc</td>\n",
       "      <td>B1-69924</td>\n",
       "      <td>23</td>\n",
       "      <td>90.70</td>\n",
       "      <td>2086.10</td>\n",
       "      <td>2018-01-01 13:24:58</td>\n",
       "    </tr>\n",
       "    <tr>\n",
       "      <th>3</th>\n",
       "      <td>307599</td>\n",
       "      <td>Kassulke, Ondricka and Metz</td>\n",
       "      <td>S1-65481</td>\n",
       "      <td>41</td>\n",
       "      <td>21.05</td>\n",
       "      <td>863.05</td>\n",
       "      <td>2018-01-01 15:05:22</td>\n",
       "    </tr>\n",
       "    <tr>\n",
       "      <th>4</th>\n",
       "      <td>412290</td>\n",
       "      <td>Jerde-Hilpert</td>\n",
       "      <td>S2-34077</td>\n",
       "      <td>6</td>\n",
       "      <td>83.21</td>\n",
       "      <td>499.26</td>\n",
       "      <td>2018-01-01 23:26:55</td>\n",
       "    </tr>\n",
       "  </tbody>\n",
       "</table>\n",
       "</div>"
      ],
      "text/plain": [
       "   account number                         name  ... ext price                date\n",
       "0          740150                   Barton LLC  ...   3380.91 2018-01-01 07:21:51\n",
       "1          714466              Trantow-Barrows  ...    -63.16 2018-01-01 10:00:47\n",
       "2          218895                    Kulas Inc  ...   2086.10 2018-01-01 13:24:58\n",
       "3          307599  Kassulke, Ondricka and Metz  ...    863.05 2018-01-01 15:05:22\n",
       "4          412290                Jerde-Hilpert  ...    499.26 2018-01-01 23:26:55\n",
       "\n",
       "[5 rows x 7 columns]"
      ]
     },
     "execution_count": 53,
     "metadata": {
      "tags": []
     },
     "output_type": "execute_result"
    }
   ],
   "source": [
    "df_excel['Sheet2'].head()"
   ]
  },
  {
   "cell_type": "code",
   "execution_count": null,
   "metadata": {
    "id": "AFodxnVDqc5I"
   },
   "outputs": [],
   "source": [
    "df_all = pd.concat(df_excel, ignore_index=True)"
   ]
  },
  {
   "cell_type": "code",
   "execution_count": null,
   "metadata": {
    "colab": {
     "base_uri": "https://localhost:8080/",
     "height": 221
    },
    "id": "YUcxRwy3qizF",
    "outputId": "594935f5-22a0-4f40-9e9c-3da0bceebb0f"
   },
   "outputs": [
    {
     "data": {
      "text/html": [
       "<div>\n",
       "<style scoped>\n",
       "    .dataframe tbody tr th:only-of-type {\n",
       "        vertical-align: middle;\n",
       "    }\n",
       "\n",
       "    .dataframe tbody tr th {\n",
       "        vertical-align: top;\n",
       "    }\n",
       "\n",
       "    .dataframe thead th {\n",
       "        text-align: right;\n",
       "    }\n",
       "</style>\n",
       "<table border=\"1\" class=\"dataframe\">\n",
       "  <thead>\n",
       "    <tr style=\"text-align: right;\">\n",
       "      <th></th>\n",
       "      <th>account number</th>\n",
       "      <th>name</th>\n",
       "      <th>sku</th>\n",
       "      <th>quantity</th>\n",
       "      <th>unit price</th>\n",
       "      <th>ext price</th>\n",
       "      <th>date</th>\n",
       "    </tr>\n",
       "  </thead>\n",
       "  <tbody>\n",
       "    <tr>\n",
       "      <th>0</th>\n",
       "      <td>412290</td>\n",
       "      <td>Jerde-Hilpert</td>\n",
       "      <td>S2-77896</td>\n",
       "      <td>43</td>\n",
       "      <td>76.66</td>\n",
       "      <td>3296.38</td>\n",
       "      <td>2018-03-04 23:10:28</td>\n",
       "    </tr>\n",
       "    <tr>\n",
       "      <th>1</th>\n",
       "      <td>383080</td>\n",
       "      <td>Will LLC</td>\n",
       "      <td>S1-93683</td>\n",
       "      <td>28</td>\n",
       "      <td>90.86</td>\n",
       "      <td>2544.08</td>\n",
       "      <td>2018-03-05 05:11:49</td>\n",
       "    </tr>\n",
       "    <tr>\n",
       "      <th>2</th>\n",
       "      <td>729833</td>\n",
       "      <td>Koepp Ltd</td>\n",
       "      <td>S1-30248</td>\n",
       "      <td>13</td>\n",
       "      <td>44.84</td>\n",
       "      <td>582.92</td>\n",
       "      <td>2018-03-05 17:33:52</td>\n",
       "    </tr>\n",
       "    <tr>\n",
       "      <th>3</th>\n",
       "      <td>424914</td>\n",
       "      <td>White-Trantow</td>\n",
       "      <td>S2-82423</td>\n",
       "      <td>38</td>\n",
       "      <td>50.93</td>\n",
       "      <td>1935.34</td>\n",
       "      <td>2018-03-05 21:40:10</td>\n",
       "    </tr>\n",
       "    <tr>\n",
       "      <th>4</th>\n",
       "      <td>672390</td>\n",
       "      <td>Kuhn-Gusikowski</td>\n",
       "      <td>S1-50961</td>\n",
       "      <td>34</td>\n",
       "      <td>48.20</td>\n",
       "      <td>1638.80</td>\n",
       "      <td>2018-03-06 11:59:00</td>\n",
       "    </tr>\n",
       "  </tbody>\n",
       "</table>\n",
       "</div>"
      ],
      "text/plain": [
       "   account number             name  ... ext price                date\n",
       "0          412290    Jerde-Hilpert  ...   3296.38 2018-03-04 23:10:28\n",
       "1          383080         Will LLC  ...   2544.08 2018-03-05 05:11:49\n",
       "2          729833        Koepp Ltd  ...    582.92 2018-03-05 17:33:52\n",
       "3          424914    White-Trantow  ...   1935.34 2018-03-05 21:40:10\n",
       "4          672390  Kuhn-Gusikowski  ...   1638.80 2018-03-06 11:59:00\n",
       "\n",
       "[5 rows x 7 columns]"
      ]
     },
     "execution_count": 59,
     "metadata": {
      "tags": []
     },
     "output_type": "execute_result"
    }
   ],
   "source": [
    "df_all.head()"
   ]
  },
  {
   "cell_type": "code",
   "execution_count": null,
   "metadata": {
    "colab": {
     "base_uri": "https://localhost:8080/",
     "height": 54
    },
    "id": "c3WwsSwyfh8H",
    "outputId": "3999b2b6-2071-4f49-fc94-55dff364976f"
   },
   "outputs": [
    {
     "data": {
      "text/plain": [
       "float"
      ]
     },
     "execution_count": 61,
     "metadata": {
      "tags": []
     },
     "output_type": "execute_result"
    }
   ],
   "source": [
    "a = 60.5;\n",
    "\n",
    "type(a)"
   ]
  },
  {
   "cell_type": "code",
   "execution_count": null,
   "metadata": {
    "colab": {
     "base_uri": "https://localhost:8080/",
     "height": 221
    },
    "id": "n7-uf_VUftsX",
    "outputId": "6e3fdf61-fa6d-4d4a-e437-aefa489a7a7b"
   },
   "outputs": [
    {
     "data": {
      "text/html": [
       "<div>\n",
       "<style scoped>\n",
       "    .dataframe tbody tr th:only-of-type {\n",
       "        vertical-align: middle;\n",
       "    }\n",
       "\n",
       "    .dataframe tbody tr th {\n",
       "        vertical-align: top;\n",
       "    }\n",
       "\n",
       "    .dataframe thead th {\n",
       "        text-align: right;\n",
       "    }\n",
       "</style>\n",
       "<table border=\"1\" class=\"dataframe\">\n",
       "  <thead>\n",
       "    <tr style=\"text-align: right;\">\n",
       "      <th></th>\n",
       "      <th>name</th>\n",
       "      <th>sku</th>\n",
       "      <th>quantity</th>\n",
       "    </tr>\n",
       "  </thead>\n",
       "  <tbody>\n",
       "    <tr>\n",
       "      <th>0</th>\n",
       "      <td>Jerde-Hilpert</td>\n",
       "      <td>S2-77896</td>\n",
       "      <td>43</td>\n",
       "    </tr>\n",
       "    <tr>\n",
       "      <th>1</th>\n",
       "      <td>Will LLC</td>\n",
       "      <td>S1-93683</td>\n",
       "      <td>28</td>\n",
       "    </tr>\n",
       "    <tr>\n",
       "      <th>2</th>\n",
       "      <td>Koepp Ltd</td>\n",
       "      <td>S1-30248</td>\n",
       "      <td>13</td>\n",
       "    </tr>\n",
       "    <tr>\n",
       "      <th>3</th>\n",
       "      <td>White-Trantow</td>\n",
       "      <td>S2-82423</td>\n",
       "      <td>38</td>\n",
       "    </tr>\n",
       "    <tr>\n",
       "      <th>4</th>\n",
       "      <td>Kuhn-Gusikowski</td>\n",
       "      <td>S1-50961</td>\n",
       "      <td>34</td>\n",
       "    </tr>\n",
       "  </tbody>\n",
       "</table>\n",
       "</div>"
      ],
      "text/plain": [
       "              name       sku  quantity\n",
       "0    Jerde-Hilpert  S2-77896        43\n",
       "1         Will LLC  S1-93683        28\n",
       "2        Koepp Ltd  S1-30248        13\n",
       "3    White-Trantow  S2-82423        38\n",
       "4  Kuhn-Gusikowski  S1-50961        34"
      ]
     },
     "execution_count": 63,
     "metadata": {
      "tags": []
     },
     "output_type": "execute_result"
    }
   ],
   "source": [
    "df_all[['name','sku','quantity']].head(5)"
   ]
  },
  {
   "cell_type": "code",
   "execution_count": null,
   "metadata": {
    "id": "UM4H5--c1Jpv"
   },
   "outputs": [],
   "source": [
    "df_all.to_csv('gabungan_sheet.csv')"
   ]
  },
  {
   "cell_type": "code",
   "execution_count": null,
   "metadata": {
    "id": "8kwdEMifijfY"
   },
   "outputs": [],
   "source": [
    "df_all.to_sql()"
   ]
  },
  {
   "cell_type": "markdown",
   "metadata": {
    "id": "q5bmc9YvRWHe"
   },
   "source": [
    "# Data manipulation"
   ]
  },
  {
   "cell_type": "markdown",
   "metadata": {
    "id": "cGLSCTFU4S6j"
   },
   "source": [
    "### Data California Housing"
   ]
  },
  {
   "cell_type": "code",
   "execution_count": null,
   "metadata": {
    "colab": {
     "base_uri": "https://localhost:8080/",
     "height": 317
    },
    "id": "FtGLnYbZnXkg",
    "outputId": "68525db3-3eff-4e5b-f486-c9f0e806c08d"
   },
   "outputs": [
    {
     "data": {
      "text/html": [
       "<div>\n",
       "<style scoped>\n",
       "    .dataframe tbody tr th:only-of-type {\n",
       "        vertical-align: middle;\n",
       "    }\n",
       "\n",
       "    .dataframe tbody tr th {\n",
       "        vertical-align: top;\n",
       "    }\n",
       "\n",
       "    .dataframe thead th {\n",
       "        text-align: right;\n",
       "    }\n",
       "</style>\n",
       "<table border=\"1\" class=\"dataframe\">\n",
       "  <thead>\n",
       "    <tr style=\"text-align: right;\">\n",
       "      <th></th>\n",
       "      <th>longitude</th>\n",
       "      <th>latitude</th>\n",
       "      <th>housing_median_age</th>\n",
       "      <th>total_rooms</th>\n",
       "      <th>total_bedrooms</th>\n",
       "      <th>population</th>\n",
       "      <th>households</th>\n",
       "      <th>median_income</th>\n",
       "      <th>median_house_value</th>\n",
       "    </tr>\n",
       "  </thead>\n",
       "  <tbody>\n",
       "    <tr>\n",
       "      <th>count</th>\n",
       "      <td>3000.000000</td>\n",
       "      <td>3000.00000</td>\n",
       "      <td>3000.000000</td>\n",
       "      <td>3000.000000</td>\n",
       "      <td>3000.000000</td>\n",
       "      <td>3000.000000</td>\n",
       "      <td>3000.00000</td>\n",
       "      <td>3000.000000</td>\n",
       "      <td>3000.00000</td>\n",
       "    </tr>\n",
       "    <tr>\n",
       "      <th>mean</th>\n",
       "      <td>-119.589200</td>\n",
       "      <td>35.63539</td>\n",
       "      <td>28.845333</td>\n",
       "      <td>2599.578667</td>\n",
       "      <td>529.950667</td>\n",
       "      <td>1402.798667</td>\n",
       "      <td>489.91200</td>\n",
       "      <td>3.807272</td>\n",
       "      <td>205846.27500</td>\n",
       "    </tr>\n",
       "    <tr>\n",
       "      <th>std</th>\n",
       "      <td>1.994936</td>\n",
       "      <td>2.12967</td>\n",
       "      <td>12.555396</td>\n",
       "      <td>2155.593332</td>\n",
       "      <td>415.654368</td>\n",
       "      <td>1030.543012</td>\n",
       "      <td>365.42271</td>\n",
       "      <td>1.854512</td>\n",
       "      <td>113119.68747</td>\n",
       "    </tr>\n",
       "    <tr>\n",
       "      <th>min</th>\n",
       "      <td>-124.180000</td>\n",
       "      <td>32.56000</td>\n",
       "      <td>1.000000</td>\n",
       "      <td>6.000000</td>\n",
       "      <td>2.000000</td>\n",
       "      <td>5.000000</td>\n",
       "      <td>2.00000</td>\n",
       "      <td>0.499900</td>\n",
       "      <td>22500.00000</td>\n",
       "    </tr>\n",
       "    <tr>\n",
       "      <th>25%</th>\n",
       "      <td>-121.810000</td>\n",
       "      <td>33.93000</td>\n",
       "      <td>18.000000</td>\n",
       "      <td>1401.000000</td>\n",
       "      <td>291.000000</td>\n",
       "      <td>780.000000</td>\n",
       "      <td>273.00000</td>\n",
       "      <td>2.544000</td>\n",
       "      <td>121200.00000</td>\n",
       "    </tr>\n",
       "    <tr>\n",
       "      <th>50%</th>\n",
       "      <td>-118.485000</td>\n",
       "      <td>34.27000</td>\n",
       "      <td>29.000000</td>\n",
       "      <td>2106.000000</td>\n",
       "      <td>437.000000</td>\n",
       "      <td>1155.000000</td>\n",
       "      <td>409.50000</td>\n",
       "      <td>3.487150</td>\n",
       "      <td>177650.00000</td>\n",
       "    </tr>\n",
       "    <tr>\n",
       "      <th>75%</th>\n",
       "      <td>-118.020000</td>\n",
       "      <td>37.69000</td>\n",
       "      <td>37.000000</td>\n",
       "      <td>3129.000000</td>\n",
       "      <td>636.000000</td>\n",
       "      <td>1742.750000</td>\n",
       "      <td>597.25000</td>\n",
       "      <td>4.656475</td>\n",
       "      <td>263975.00000</td>\n",
       "    </tr>\n",
       "    <tr>\n",
       "      <th>max</th>\n",
       "      <td>-114.490000</td>\n",
       "      <td>41.92000</td>\n",
       "      <td>52.000000</td>\n",
       "      <td>30450.000000</td>\n",
       "      <td>5419.000000</td>\n",
       "      <td>11935.000000</td>\n",
       "      <td>4930.00000</td>\n",
       "      <td>15.000100</td>\n",
       "      <td>500001.00000</td>\n",
       "    </tr>\n",
       "  </tbody>\n",
       "</table>\n",
       "</div>"
      ],
      "text/plain": [
       "         longitude    latitude  ...  median_income  median_house_value\n",
       "count  3000.000000  3000.00000  ...    3000.000000          3000.00000\n",
       "mean   -119.589200    35.63539  ...       3.807272        205846.27500\n",
       "std       1.994936     2.12967  ...       1.854512        113119.68747\n",
       "min    -124.180000    32.56000  ...       0.499900         22500.00000\n",
       "25%    -121.810000    33.93000  ...       2.544000        121200.00000\n",
       "50%    -118.485000    34.27000  ...       3.487150        177650.00000\n",
       "75%    -118.020000    37.69000  ...       4.656475        263975.00000\n",
       "max    -114.490000    41.92000  ...      15.000100        500001.00000\n",
       "\n",
       "[8 rows x 9 columns]"
      ]
     },
     "execution_count": 35,
     "metadata": {
      "tags": []
     },
     "output_type": "execute_result"
    }
   ],
   "source": [
    "df.describe()"
   ]
  },
  {
   "cell_type": "code",
   "execution_count": null,
   "metadata": {
    "colab": {
     "base_uri": "https://localhost:8080/",
     "height": 289
    },
    "id": "7_4TJwKkneLa",
    "outputId": "5c226cf6-ab0b-448f-aede-36874cdd867d"
   },
   "outputs": [
    {
     "name": "stdout",
     "output_type": "stream",
     "text": [
      "<class 'pandas.core.frame.DataFrame'>\n",
      "RangeIndex: 3000 entries, 0 to 2999\n",
      "Data columns (total 9 columns):\n",
      " #   Column              Non-Null Count  Dtype  \n",
      "---  ------              --------------  -----  \n",
      " 0   longitude           3000 non-null   float64\n",
      " 1   latitude            3000 non-null   float64\n",
      " 2   housing_median_age  3000 non-null   float64\n",
      " 3   total_rooms         3000 non-null   float64\n",
      " 4   total_bedrooms      3000 non-null   float64\n",
      " 5   population          3000 non-null   float64\n",
      " 6   households          3000 non-null   float64\n",
      " 7   median_income       3000 non-null   float64\n",
      " 8   median_house_value  3000 non-null   float64\n",
      "dtypes: float64(9)\n",
      "memory usage: 211.1 KB\n"
     ]
    }
   ],
   "source": [
    "df.info()"
   ]
  },
  {
   "cell_type": "code",
   "execution_count": null,
   "metadata": {
    "colab": {
     "base_uri": "https://localhost:8080/",
     "height": 187
    },
    "id": "6_bzvS6lnlYC",
    "outputId": "e5a0a622-3c59-48b7-fdef-df59cd02896b"
   },
   "outputs": [
    {
     "data": {
      "text/plain": [
       "longitude             0\n",
       "latitude              0\n",
       "housing_median_age    0\n",
       "total_rooms           0\n",
       "total_bedrooms        0\n",
       "population            0\n",
       "households            0\n",
       "median_income         0\n",
       "median_house_value    0\n",
       "dtype: int64"
      ]
     },
     "execution_count": 37,
     "metadata": {
      "tags": []
     },
     "output_type": "execute_result"
    }
   ],
   "source": [
    "df.isna().sum()"
   ]
  },
  {
   "cell_type": "code",
   "execution_count": null,
   "metadata": {
    "id": "f0YQg_xhi06L"
   },
   "outputs": [],
   "source": [
    "df.fillna()"
   ]
  },
  {
   "cell_type": "code",
   "execution_count": null,
   "metadata": {
    "id": "l24KlOiO9Jpg"
   },
   "outputs": [],
   "source": [
    "df['total_rooms'] = df['total_rooms'].astype('int')"
   ]
  },
  {
   "cell_type": "code",
   "execution_count": null,
   "metadata": {
    "colab": {
     "base_uri": "https://localhost:8080/",
     "height": 289
    },
    "id": "kngQA-3H9QmO",
    "outputId": "2ab42de7-9c94-4689-f47c-671d61de87cb"
   },
   "outputs": [
    {
     "name": "stdout",
     "output_type": "stream",
     "text": [
      "<class 'pandas.core.frame.DataFrame'>\n",
      "RangeIndex: 3000 entries, 0 to 2999\n",
      "Data columns (total 9 columns):\n",
      " #   Column              Non-Null Count  Dtype  \n",
      "---  ------              --------------  -----  \n",
      " 0   longitude           3000 non-null   float64\n",
      " 1   latitude            3000 non-null   float64\n",
      " 2   housing_median_age  3000 non-null   float64\n",
      " 3   total_rooms         3000 non-null   int64  \n",
      " 4   total_bedrooms      3000 non-null   float64\n",
      " 5   population          3000 non-null   float64\n",
      " 6   households          3000 non-null   float64\n",
      " 7   median_income       3000 non-null   float64\n",
      " 8   median_house_value  3000 non-null   float64\n",
      "dtypes: float64(8), int64(1)\n",
      "memory usage: 211.1 KB\n"
     ]
    }
   ],
   "source": [
    "df.info()"
   ]
  },
  {
   "cell_type": "code",
   "execution_count": null,
   "metadata": {
    "colab": {
     "base_uri": "https://localhost:8080/",
     "height": 224
    },
    "id": "c6iXcqv49S4K",
    "outputId": "cb3570c3-f260-495b-d33f-d433474dd639"
   },
   "outputs": [
    {
     "data": {
      "text/html": [
       "<div>\n",
       "<style scoped>\n",
       "    .dataframe tbody tr th:only-of-type {\n",
       "        vertical-align: middle;\n",
       "    }\n",
       "\n",
       "    .dataframe tbody tr th {\n",
       "        vertical-align: top;\n",
       "    }\n",
       "\n",
       "    .dataframe thead th {\n",
       "        text-align: right;\n",
       "    }\n",
       "</style>\n",
       "<table border=\"1\" class=\"dataframe\">\n",
       "  <thead>\n",
       "    <tr style=\"text-align: right;\">\n",
       "      <th></th>\n",
       "      <th>longitude</th>\n",
       "      <th>latitude</th>\n",
       "      <th>housing_median_age</th>\n",
       "      <th>total_rooms</th>\n",
       "      <th>total_bedrooms</th>\n",
       "      <th>population</th>\n",
       "      <th>households</th>\n",
       "      <th>median_income</th>\n",
       "      <th>median_house_value</th>\n",
       "    </tr>\n",
       "  </thead>\n",
       "  <tbody>\n",
       "    <tr>\n",
       "      <th>0</th>\n",
       "      <td>-122.05</td>\n",
       "      <td>37.37</td>\n",
       "      <td>27.0</td>\n",
       "      <td>3885</td>\n",
       "      <td>661.0</td>\n",
       "      <td>1537.0</td>\n",
       "      <td>606.0</td>\n",
       "      <td>6.6085</td>\n",
       "      <td>344700.0</td>\n",
       "    </tr>\n",
       "    <tr>\n",
       "      <th>1</th>\n",
       "      <td>-118.30</td>\n",
       "      <td>34.26</td>\n",
       "      <td>43.0</td>\n",
       "      <td>1510</td>\n",
       "      <td>310.0</td>\n",
       "      <td>809.0</td>\n",
       "      <td>277.0</td>\n",
       "      <td>3.5990</td>\n",
       "      <td>176500.0</td>\n",
       "    </tr>\n",
       "    <tr>\n",
       "      <th>2</th>\n",
       "      <td>-117.81</td>\n",
       "      <td>33.78</td>\n",
       "      <td>27.0</td>\n",
       "      <td>3589</td>\n",
       "      <td>507.0</td>\n",
       "      <td>1484.0</td>\n",
       "      <td>495.0</td>\n",
       "      <td>5.7934</td>\n",
       "      <td>270500.0</td>\n",
       "    </tr>\n",
       "    <tr>\n",
       "      <th>3</th>\n",
       "      <td>-118.36</td>\n",
       "      <td>33.82</td>\n",
       "      <td>28.0</td>\n",
       "      <td>67</td>\n",
       "      <td>15.0</td>\n",
       "      <td>49.0</td>\n",
       "      <td>11.0</td>\n",
       "      <td>6.1359</td>\n",
       "      <td>330000.0</td>\n",
       "    </tr>\n",
       "    <tr>\n",
       "      <th>4</th>\n",
       "      <td>-119.67</td>\n",
       "      <td>36.33</td>\n",
       "      <td>19.0</td>\n",
       "      <td>1241</td>\n",
       "      <td>244.0</td>\n",
       "      <td>850.0</td>\n",
       "      <td>237.0</td>\n",
       "      <td>2.9375</td>\n",
       "      <td>81700.0</td>\n",
       "    </tr>\n",
       "  </tbody>\n",
       "</table>\n",
       "</div>"
      ],
      "text/plain": [
       "   longitude  latitude  ...  median_income  median_house_value\n",
       "0    -122.05     37.37  ...         6.6085            344700.0\n",
       "1    -118.30     34.26  ...         3.5990            176500.0\n",
       "2    -117.81     33.78  ...         5.7934            270500.0\n",
       "3    -118.36     33.82  ...         6.1359            330000.0\n",
       "4    -119.67     36.33  ...         2.9375             81700.0\n",
       "\n",
       "[5 rows x 9 columns]"
      ]
     },
     "execution_count": 70,
     "metadata": {
      "tags": []
     },
     "output_type": "execute_result"
    }
   ],
   "source": [
    "df.head(5)"
   ]
  },
  {
   "cell_type": "markdown",
   "metadata": {
    "id": "_LzgmumW4cjH"
   },
   "source": [
    "### Data Workbook"
   ]
  },
  {
   "cell_type": "code",
   "execution_count": null,
   "metadata": {
    "colab": {
     "base_uri": "https://localhost:8080/",
     "height": 204
    },
    "id": "EzYs24FE4jv5",
    "outputId": "e1192536-22d6-4549-e9f0-07c75505e4a0"
   },
   "outputs": [
    {
     "data": {
      "text/html": [
       "<div>\n",
       "<style scoped>\n",
       "    .dataframe tbody tr th:only-of-type {\n",
       "        vertical-align: middle;\n",
       "    }\n",
       "\n",
       "    .dataframe tbody tr th {\n",
       "        vertical-align: top;\n",
       "    }\n",
       "\n",
       "    .dataframe thead th {\n",
       "        text-align: right;\n",
       "    }\n",
       "</style>\n",
       "<table border=\"1\" class=\"dataframe\">\n",
       "  <thead>\n",
       "    <tr style=\"text-align: right;\">\n",
       "      <th></th>\n",
       "      <th>account number</th>\n",
       "      <th>name</th>\n",
       "      <th>sku</th>\n",
       "      <th>quantity</th>\n",
       "      <th>unit price</th>\n",
       "      <th>ext price</th>\n",
       "      <th>date</th>\n",
       "    </tr>\n",
       "  </thead>\n",
       "  <tbody>\n",
       "    <tr>\n",
       "      <th>0</th>\n",
       "      <td>412290</td>\n",
       "      <td>Jerde-Hilpert</td>\n",
       "      <td>S2-77896</td>\n",
       "      <td>43</td>\n",
       "      <td>76.66</td>\n",
       "      <td>3296.38</td>\n",
       "      <td>2018-03-04 23:10:28</td>\n",
       "    </tr>\n",
       "    <tr>\n",
       "      <th>1</th>\n",
       "      <td>383080</td>\n",
       "      <td>Will LLC</td>\n",
       "      <td>S1-93683</td>\n",
       "      <td>28</td>\n",
       "      <td>90.86</td>\n",
       "      <td>2544.08</td>\n",
       "      <td>2018-03-05 05:11:49</td>\n",
       "    </tr>\n",
       "    <tr>\n",
       "      <th>2</th>\n",
       "      <td>729833</td>\n",
       "      <td>Koepp Ltd</td>\n",
       "      <td>S1-30248</td>\n",
       "      <td>13</td>\n",
       "      <td>44.84</td>\n",
       "      <td>582.92</td>\n",
       "      <td>2018-03-05 17:33:52</td>\n",
       "    </tr>\n",
       "    <tr>\n",
       "      <th>3</th>\n",
       "      <td>424914</td>\n",
       "      <td>White-Trantow</td>\n",
       "      <td>S2-82423</td>\n",
       "      <td>38</td>\n",
       "      <td>50.93</td>\n",
       "      <td>1935.34</td>\n",
       "      <td>2018-03-05 21:40:10</td>\n",
       "    </tr>\n",
       "    <tr>\n",
       "      <th>4</th>\n",
       "      <td>672390</td>\n",
       "      <td>Kuhn-Gusikowski</td>\n",
       "      <td>S1-50961</td>\n",
       "      <td>34</td>\n",
       "      <td>48.20</td>\n",
       "      <td>1638.80</td>\n",
       "      <td>2018-03-06 11:59:00</td>\n",
       "    </tr>\n",
       "  </tbody>\n",
       "</table>\n",
       "</div>"
      ],
      "text/plain": [
       "   account number             name  ... ext price                date\n",
       "0          412290    Jerde-Hilpert  ...   3296.38 2018-03-04 23:10:28\n",
       "1          383080         Will LLC  ...   2544.08 2018-03-05 05:11:49\n",
       "2          729833        Koepp Ltd  ...    582.92 2018-03-05 17:33:52\n",
       "3          424914    White-Trantow  ...   1935.34 2018-03-05 21:40:10\n",
       "4          672390  Kuhn-Gusikowski  ...   1638.80 2018-03-06 11:59:00\n",
       "\n",
       "[5 rows x 7 columns]"
      ]
     },
     "execution_count": 40,
     "metadata": {
      "tags": []
     },
     "output_type": "execute_result"
    }
   ],
   "source": [
    "df_all.head(5)"
   ]
  },
  {
   "cell_type": "code",
   "execution_count": null,
   "metadata": {
    "colab": {
     "base_uri": "https://localhost:8080/",
     "height": 221
    },
    "id": "JaHdQNVi46rD",
    "outputId": "6acb154b-7293-429a-958b-7ba7cd4d5b1a"
   },
   "outputs": [
    {
     "data": {
      "text/plain": [
       "0                     JERDE-HILPERT\n",
       "1                          WILL LLC\n",
       "2                         KOEPP LTD\n",
       "3                     WHITE-TRANTOW\n",
       "4                   KUHN-GUSIKOWSKI\n",
       "                   ...             \n",
       "294                      STOKES LLC\n",
       "295                       KULAS INC\n",
       "296                     POLLICH LLC\n",
       "297    FRITSCH, RUSSEL AND ANDERSON\n",
       "298                    KIEHN-SPINKA\n",
       "Name: name, Length: 299, dtype: object"
      ]
     },
     "execution_count": 42,
     "metadata": {
      "tags": []
     },
     "output_type": "execute_result"
    }
   ],
   "source": [
    "# upper case all name in pandas\n",
    "df_all['name'].str.upper()"
   ]
  },
  {
   "cell_type": "code",
   "execution_count": null,
   "metadata": {
    "id": "HIaw-rNQ5B40"
   },
   "outputs": [],
   "source": [
    "# add new column in pandas, price in IDR\n",
    "df_all['price_IDR'] = df_all['unit price'] * 14000"
   ]
  },
  {
   "cell_type": "code",
   "execution_count": null,
   "metadata": {
    "colab": {
     "base_uri": "https://localhost:8080/",
     "height": 204
    },
    "id": "cciaQIyo5WPe",
    "outputId": "8fe0aa3b-9dc5-4a94-9279-87067011fb8e"
   },
   "outputs": [
    {
     "data": {
      "text/html": [
       "<div>\n",
       "<style scoped>\n",
       "    .dataframe tbody tr th:only-of-type {\n",
       "        vertical-align: middle;\n",
       "    }\n",
       "\n",
       "    .dataframe tbody tr th {\n",
       "        vertical-align: top;\n",
       "    }\n",
       "\n",
       "    .dataframe thead th {\n",
       "        text-align: right;\n",
       "    }\n",
       "</style>\n",
       "<table border=\"1\" class=\"dataframe\">\n",
       "  <thead>\n",
       "    <tr style=\"text-align: right;\">\n",
       "      <th></th>\n",
       "      <th>account number</th>\n",
       "      <th>name</th>\n",
       "      <th>sku</th>\n",
       "      <th>quantity</th>\n",
       "      <th>unit price</th>\n",
       "      <th>ext price</th>\n",
       "      <th>date</th>\n",
       "      <th>price_IDR</th>\n",
       "    </tr>\n",
       "  </thead>\n",
       "  <tbody>\n",
       "    <tr>\n",
       "      <th>0</th>\n",
       "      <td>412290</td>\n",
       "      <td>Jerde-Hilpert</td>\n",
       "      <td>S2-77896</td>\n",
       "      <td>43</td>\n",
       "      <td>76.66</td>\n",
       "      <td>3296.38</td>\n",
       "      <td>2018-03-04 23:10:28</td>\n",
       "      <td>1073240.0</td>\n",
       "    </tr>\n",
       "    <tr>\n",
       "      <th>1</th>\n",
       "      <td>383080</td>\n",
       "      <td>Will LLC</td>\n",
       "      <td>S1-93683</td>\n",
       "      <td>28</td>\n",
       "      <td>90.86</td>\n",
       "      <td>2544.08</td>\n",
       "      <td>2018-03-05 05:11:49</td>\n",
       "      <td>1272040.0</td>\n",
       "    </tr>\n",
       "    <tr>\n",
       "      <th>2</th>\n",
       "      <td>729833</td>\n",
       "      <td>Koepp Ltd</td>\n",
       "      <td>S1-30248</td>\n",
       "      <td>13</td>\n",
       "      <td>44.84</td>\n",
       "      <td>582.92</td>\n",
       "      <td>2018-03-05 17:33:52</td>\n",
       "      <td>627760.0</td>\n",
       "    </tr>\n",
       "    <tr>\n",
       "      <th>3</th>\n",
       "      <td>424914</td>\n",
       "      <td>White-Trantow</td>\n",
       "      <td>S2-82423</td>\n",
       "      <td>38</td>\n",
       "      <td>50.93</td>\n",
       "      <td>1935.34</td>\n",
       "      <td>2018-03-05 21:40:10</td>\n",
       "      <td>713020.0</td>\n",
       "    </tr>\n",
       "    <tr>\n",
       "      <th>4</th>\n",
       "      <td>672390</td>\n",
       "      <td>Kuhn-Gusikowski</td>\n",
       "      <td>S1-50961</td>\n",
       "      <td>34</td>\n",
       "      <td>48.20</td>\n",
       "      <td>1638.80</td>\n",
       "      <td>2018-03-06 11:59:00</td>\n",
       "      <td>674800.0</td>\n",
       "    </tr>\n",
       "  </tbody>\n",
       "</table>\n",
       "</div>"
      ],
      "text/plain": [
       "   account number             name  ...                date  price_IDR\n",
       "0          412290    Jerde-Hilpert  ... 2018-03-04 23:10:28  1073240.0\n",
       "1          383080         Will LLC  ... 2018-03-05 05:11:49  1272040.0\n",
       "2          729833        Koepp Ltd  ... 2018-03-05 17:33:52   627760.0\n",
       "3          424914    White-Trantow  ... 2018-03-05 21:40:10   713020.0\n",
       "4          672390  Kuhn-Gusikowski  ... 2018-03-06 11:59:00   674800.0\n",
       "\n",
       "[5 rows x 8 columns]"
      ]
     },
     "execution_count": 45,
     "metadata": {
      "tags": []
     },
     "output_type": "execute_result"
    }
   ],
   "source": [
    "df_all.head(5)"
   ]
  },
  {
   "cell_type": "code",
   "execution_count": null,
   "metadata": {
    "colab": {
     "base_uri": "https://localhost:8080/",
     "height": 71
    },
    "id": "y9wy0G6j5bJl",
    "outputId": "3a49a92d-ec91-447f-b896-c9a0762208a6"
   },
   "outputs": [
    {
     "name": "stderr",
     "output_type": "stream",
     "text": [
      "/usr/local/lib/python3.6/dist-packages/ipykernel_launcher.py:1: FutureWarning: Columnar iteration over characters will be deprecated in future releases.\n",
      "  \"\"\"Entry point for launching an IPython kernel.\n"
     ]
    }
   ],
   "source": [
    "df_all['sku_type'], df_all['sku_number'] = df_all.sku.str.split('-').str"
   ]
  },
  {
   "cell_type": "code",
   "execution_count": null,
   "metadata": {
    "colab": {
     "base_uri": "https://localhost:8080/",
     "height": 204
    },
    "id": "tYe1Tauz6jqq",
    "outputId": "c61ad414-d625-4cf9-ae43-c7960ad0a106"
   },
   "outputs": [
    {
     "data": {
      "text/html": [
       "<div>\n",
       "<style scoped>\n",
       "    .dataframe tbody tr th:only-of-type {\n",
       "        vertical-align: middle;\n",
       "    }\n",
       "\n",
       "    .dataframe tbody tr th {\n",
       "        vertical-align: top;\n",
       "    }\n",
       "\n",
       "    .dataframe thead th {\n",
       "        text-align: right;\n",
       "    }\n",
       "</style>\n",
       "<table border=\"1\" class=\"dataframe\">\n",
       "  <thead>\n",
       "    <tr style=\"text-align: right;\">\n",
       "      <th></th>\n",
       "      <th>account number</th>\n",
       "      <th>name</th>\n",
       "      <th>sku</th>\n",
       "      <th>quantity</th>\n",
       "      <th>unit price</th>\n",
       "      <th>ext price</th>\n",
       "      <th>date</th>\n",
       "      <th>sku_type</th>\n",
       "      <th>sku_number</th>\n",
       "    </tr>\n",
       "  </thead>\n",
       "  <tbody>\n",
       "    <tr>\n",
       "      <th>0</th>\n",
       "      <td>412290</td>\n",
       "      <td>Jerde-Hilpert</td>\n",
       "      <td>S2-77896</td>\n",
       "      <td>43</td>\n",
       "      <td>76.66</td>\n",
       "      <td>3296.38</td>\n",
       "      <td>2018-03-04 23:10:28</td>\n",
       "      <td>S2</td>\n",
       "      <td>77896</td>\n",
       "    </tr>\n",
       "    <tr>\n",
       "      <th>1</th>\n",
       "      <td>383080</td>\n",
       "      <td>Will LLC</td>\n",
       "      <td>S1-93683</td>\n",
       "      <td>28</td>\n",
       "      <td>90.86</td>\n",
       "      <td>2544.08</td>\n",
       "      <td>2018-03-05 05:11:49</td>\n",
       "      <td>S1</td>\n",
       "      <td>93683</td>\n",
       "    </tr>\n",
       "    <tr>\n",
       "      <th>2</th>\n",
       "      <td>729833</td>\n",
       "      <td>Koepp Ltd</td>\n",
       "      <td>S1-30248</td>\n",
       "      <td>13</td>\n",
       "      <td>44.84</td>\n",
       "      <td>582.92</td>\n",
       "      <td>2018-03-05 17:33:52</td>\n",
       "      <td>S1</td>\n",
       "      <td>30248</td>\n",
       "    </tr>\n",
       "    <tr>\n",
       "      <th>3</th>\n",
       "      <td>424914</td>\n",
       "      <td>White-Trantow</td>\n",
       "      <td>S2-82423</td>\n",
       "      <td>38</td>\n",
       "      <td>50.93</td>\n",
       "      <td>1935.34</td>\n",
       "      <td>2018-03-05 21:40:10</td>\n",
       "      <td>S2</td>\n",
       "      <td>82423</td>\n",
       "    </tr>\n",
       "    <tr>\n",
       "      <th>4</th>\n",
       "      <td>672390</td>\n",
       "      <td>Kuhn-Gusikowski</td>\n",
       "      <td>S1-50961</td>\n",
       "      <td>34</td>\n",
       "      <td>48.20</td>\n",
       "      <td>1638.80</td>\n",
       "      <td>2018-03-06 11:59:00</td>\n",
       "      <td>S1</td>\n",
       "      <td>50961</td>\n",
       "    </tr>\n",
       "  </tbody>\n",
       "</table>\n",
       "</div>"
      ],
      "text/plain": [
       "   account number             name  ... sku_type  sku_number\n",
       "0          412290    Jerde-Hilpert  ...       S2       77896\n",
       "1          383080         Will LLC  ...       S1       93683\n",
       "2          729833        Koepp Ltd  ...       S1       30248\n",
       "3          424914    White-Trantow  ...       S2       82423\n",
       "4          672390  Kuhn-Gusikowski  ...       S1       50961\n",
       "\n",
       "[5 rows x 9 columns]"
      ]
     },
     "execution_count": 29,
     "metadata": {
      "tags": []
     },
     "output_type": "execute_result"
    }
   ],
   "source": [
    "df_all.head(5)"
   ]
  },
  {
   "cell_type": "markdown",
   "metadata": {
    "id": "FiLJUL9eRYgr"
   },
   "source": [
    "# Python data visualization"
   ]
  },
  {
   "cell_type": "code",
   "execution_count": null,
   "metadata": {
    "id": "48AvoWcF-0sI"
   },
   "outputs": [],
   "source": [
    "import matplotlib.pyplot as plt"
   ]
  },
  {
   "cell_type": "code",
   "execution_count": null,
   "metadata": {
    "colab": {
     "base_uri": "https://localhost:8080/",
     "height": 286
    },
    "id": "UOM7oaSYGXRI",
    "outputId": "b0108be0-2878-4139-d339-7bc633d679d3"
   },
   "outputs": [
    {
     "data": {
      "image/png": "[encoded data removed]",
      "text/plain": [
       "<Figure size 432x288 with 1 Axes>"
      ]
     },
     "metadata": {
      "needs_background": "light",
      "tags": []
     },
     "output_type": "display_data"
    }
   ],
   "source": [
    "import numpy as np\n",
    "\n",
    "x = np.linspace(0, 10, 100)\n",
    "\n",
    "plt.plot(x, np.sin(x))\n",
    "plt.plot(x, np.cos(x))\n",
    "\n",
    "plt.show()"
   ]
  },
  {
   "cell_type": "code",
   "execution_count": null,
   "metadata": {
    "id": "xFxmkMWv-16g"
   },
   "outputs": [],
   "source": [
    "groups = pd.value_counts(df['housing_median_age'].values, sort=True)"
   ]
  },
  {
   "cell_type": "code",
   "execution_count": null,
   "metadata": {
    "colab": {
     "base_uri": "https://localhost:8080/"
    },
    "id": "nFFHqAATGo1X",
    "outputId": "89d2b307-bd61-41a8-fc8f-31ed90fb0daa"
   },
   "outputs": [
    {
     "data": {
      "text/plain": [
       "<matplotlib.axes._subplots.AxesSubplot at 0x7f55e44f7cc0>"
      ]
     },
     "execution_count": 48,
     "metadata": {
      "tags": []
     },
     "output_type": "execute_result"
    },
    {
     "data": {
      "image/png": "[encoded data removed]",
      "text/plain": [
       "<Figure size 432x288 with 1 Axes>"
      ]
     },
     "metadata": {
      "needs_background": "light",
      "tags": []
     },
     "output_type": "display_data"
    }
   ],
   "source": [
    "groups[groups < 25].plot.barh()"
   ]
  },
  {
   "cell_type": "code",
   "execution_count": null,
   "metadata": {
    "id": "QhRhCarnJMEd"
   },
   "outputs": [],
   "source": [
    "sku = df_all.groupby(['sku_type']).size()"
   ]
  },
  {
   "cell_type": "code",
   "execution_count": null,
   "metadata": {
    "colab": {
     "base_uri": "https://localhost:8080/",
     "height": 374
    },
    "id": "n-fI4jYeKC-0",
    "outputId": "d7f9f9bd-8d84-49d9-eac3-9329bf907ff5"
   },
   "outputs": [
    {
     "data": {
      "text/plain": [
       "<matplotlib.axes._subplots.AxesSubplot at 0x7f55e45aaa90>"
      ]
     },
     "execution_count": 39,
     "metadata": {
      "tags": []
     },
     "output_type": "execute_result"
    },
    {
     "data": {
      "image/png": "[encoded data removed]",
      "text/plain": [
       "<Figure size 1440x432 with 1 Axes>"
      ]
     },
     "metadata": {
      "tags": []
     },
     "output_type": "display_data"
    }
   ],
   "source": [
    "sku.plot.pie(figsize=(20, 6),autopct='%1.1f%%', startangle=270, fontsize=14)"
   ]
  },
  {
   "cell_type": "markdown",
   "metadata": {
    "id": "NnGbluOtRcB7"
   },
   "source": [
    "# Extra content"
   ]
  },
  {
   "cell_type": "markdown",
   "metadata": {
    "id": "riePxw9gkAs3"
   },
   "source": [
    "We will learn about association rules in python in case, market basket analysis\n",
    "\n",
    "---\n",
    "\n",
    "\n",
    "**Apriori** is a popular algorithm [1] for extracting frequent itemsets with applications in association rule learning. The apriori algorithm has been designed to operate on databases containing transactions, such as purchases by customers of a store. An itemset is considered as \"frequent\" if it meets a user-specified support threshold.\n",
    "\n",
    "Before we start, we need to install some library in python\n",
    "\n",
    "to install library, just type in code cell\n",
    "\n",
    "`!pip install [name of library]`\n"
   ]
  },
  {
   "cell_type": "code",
   "execution_count": null,
   "metadata": {
    "colab": {
     "base_uri": "https://localhost:8080/",
     "height": 269
    },
    "id": "xqYl1lIjk4c1",
    "outputId": "9f2b413e-b050-451b-ceae-74ce5b86f2dd"
   },
   "outputs": [
    {
     "name": "stdout",
     "output_type": "stream",
     "text": [
      "Requirement already satisfied: mlxtend in /usr/local/lib/python3.6/dist-packages (0.14.0)\n",
      "Requirement already satisfied: scikit-learn>=0.18 in /usr/local/lib/python3.6/dist-packages (from mlxtend) (0.22.2.post1)\n",
      "Requirement already satisfied: setuptools in /usr/local/lib/python3.6/dist-packages (from mlxtend) (49.6.0)\n",
      "Requirement already satisfied: numpy>=1.10.4 in /usr/local/lib/python3.6/dist-packages (from mlxtend) (1.18.5)\n",
      "Requirement already satisfied: scipy>=0.17 in /usr/local/lib/python3.6/dist-packages (from mlxtend) (1.4.1)\n",
      "Requirement already satisfied: pandas>=0.17.1 in /usr/local/lib/python3.6/dist-packages (from mlxtend) (1.0.5)\n",
      "Requirement already satisfied: matplotlib>=1.5.1 in /usr/local/lib/python3.6/dist-packages (from mlxtend) (3.2.2)\n",
      "Requirement already satisfied: joblib>=0.11 in /usr/local/lib/python3.6/dist-packages (from scikit-learn>=0.18->mlxtend) (0.16.0)\n",
      "Requirement already satisfied: python-dateutil>=2.6.1 in /usr/local/lib/python3.6/dist-packages (from pandas>=0.17.1->mlxtend) (2.8.1)\n",
      "Requirement already satisfied: pytz>=2017.2 in /usr/local/lib/python3.6/dist-packages (from pandas>=0.17.1->mlxtend) (2018.9)\n",
      "Requirement already satisfied: cycler>=0.10 in /usr/local/lib/python3.6/dist-packages (from matplotlib>=1.5.1->mlxtend) (0.10.0)\n",
      "Requirement already satisfied: kiwisolver>=1.0.1 in /usr/local/lib/python3.6/dist-packages (from matplotlib>=1.5.1->mlxtend) (1.2.0)\n",
      "Requirement already satisfied: pyparsing!=2.0.4,!=2.1.2,!=2.1.6,>=2.0.1 in /usr/local/lib/python3.6/dist-packages (from matplotlib>=1.5.1->mlxtend) (2.4.7)\n",
      "Requirement already satisfied: six>=1.5 in /usr/local/lib/python3.6/dist-packages (from python-dateutil>=2.6.1->pandas>=0.17.1->mlxtend) (1.15.0)\n"
     ]
    }
   ],
   "source": [
    "!pip install mlxtend  "
   ]
  },
  {
   "cell_type": "code",
   "execution_count": null,
   "metadata": {
    "id": "fIhSlgPej_Iv"
   },
   "outputs": [],
   "source": [
    "dataset = [['Milk', 'Onion', 'Nutmeg', 'Kidney Beans', 'Eggs', 'Yogurt'],\n",
    "           ['Dill', 'Onion', 'Nutmeg', 'Kidney Beans', 'Eggs', 'Yogurt'],\n",
    "           ['Milk', 'Apple', 'Kidney Beans', 'Eggs'],\n",
    "           ['Milk', 'Unicorn', 'Corn', 'Kidney Beans', 'Yogurt'],\n",
    "           ['Corn', 'Onion', 'Onion', 'Kidney Beans', 'Ice cream', 'Eggs']]"
   ]
  },
  {
   "cell_type": "code",
   "execution_count": null,
   "metadata": {
    "id": "zQgfJ8_hlsZL"
   },
   "outputs": [],
   "source": [
    "from mlxtend.preprocessing import TransactionEncoder\n",
    "\n",
    "te = TransactionEncoder()\n",
    "te_ary = te.fit(dataset).transform(dataset)\n",
    "df = pd.DataFrame(te_ary, columns=te.columns_)"
   ]
  },
  {
   "cell_type": "code",
   "execution_count": null,
   "metadata": {
    "colab": {
     "base_uri": "https://localhost:8080/",
     "height": 221
    },
    "id": "C4o8J4JAlxdH",
    "outputId": "62247b7f-5ed9-459b-eab3-956b3136765f"
   },
   "outputs": [
    {
     "data": {
      "text/html": [
       "<div>\n",
       "<style scoped>\n",
       "    .dataframe tbody tr th:only-of-type {\n",
       "        vertical-align: middle;\n",
       "    }\n",
       "\n",
       "    .dataframe tbody tr th {\n",
       "        vertical-align: top;\n",
       "    }\n",
       "\n",
       "    .dataframe thead th {\n",
       "        text-align: right;\n",
       "    }\n",
       "</style>\n",
       "<table border=\"1\" class=\"dataframe\">\n",
       "  <thead>\n",
       "    <tr style=\"text-align: right;\">\n",
       "      <th></th>\n",
       "      <th>Apple</th>\n",
       "      <th>Corn</th>\n",
       "      <th>Dill</th>\n",
       "      <th>Eggs</th>\n",
       "      <th>Ice cream</th>\n",
       "      <th>Kidney Beans</th>\n",
       "      <th>Milk</th>\n",
       "      <th>Nutmeg</th>\n",
       "      <th>Onion</th>\n",
       "      <th>Unicorn</th>\n",
       "      <th>Yogurt</th>\n",
       "    </tr>\n",
       "  </thead>\n",
       "  <tbody>\n",
       "    <tr>\n",
       "      <th>0</th>\n",
       "      <td>False</td>\n",
       "      <td>False</td>\n",
       "      <td>False</td>\n",
       "      <td>True</td>\n",
       "      <td>False</td>\n",
       "      <td>True</td>\n",
       "      <td>True</td>\n",
       "      <td>True</td>\n",
       "      <td>True</td>\n",
       "      <td>False</td>\n",
       "      <td>True</td>\n",
       "    </tr>\n",
       "    <tr>\n",
       "      <th>1</th>\n",
       "      <td>False</td>\n",
       "      <td>False</td>\n",
       "      <td>True</td>\n",
       "      <td>True</td>\n",
       "      <td>False</td>\n",
       "      <td>True</td>\n",
       "      <td>False</td>\n",
       "      <td>True</td>\n",
       "      <td>True</td>\n",
       "      <td>False</td>\n",
       "      <td>True</td>\n",
       "    </tr>\n",
       "    <tr>\n",
       "      <th>2</th>\n",
       "      <td>True</td>\n",
       "      <td>False</td>\n",
       "      <td>False</td>\n",
       "      <td>True</td>\n",
       "      <td>False</td>\n",
       "      <td>True</td>\n",
       "      <td>True</td>\n",
       "      <td>False</td>\n",
       "      <td>False</td>\n",
       "      <td>False</td>\n",
       "      <td>False</td>\n",
       "    </tr>\n",
       "    <tr>\n",
       "      <th>3</th>\n",
       "      <td>False</td>\n",
       "      <td>True</td>\n",
       "      <td>False</td>\n",
       "      <td>False</td>\n",
       "      <td>False</td>\n",
       "      <td>True</td>\n",
       "      <td>True</td>\n",
       "      <td>False</td>\n",
       "      <td>False</td>\n",
       "      <td>True</td>\n",
       "      <td>True</td>\n",
       "    </tr>\n",
       "    <tr>\n",
       "      <th>4</th>\n",
       "      <td>False</td>\n",
       "      <td>True</td>\n",
       "      <td>False</td>\n",
       "      <td>True</td>\n",
       "      <td>True</td>\n",
       "      <td>True</td>\n",
       "      <td>False</td>\n",
       "      <td>False</td>\n",
       "      <td>True</td>\n",
       "      <td>False</td>\n",
       "      <td>False</td>\n",
       "    </tr>\n",
       "  </tbody>\n",
       "</table>\n",
       "</div>"
      ],
      "text/plain": [
       "   Apple   Corn   Dill   Eggs  Ice cream  ...   Milk  Nutmeg  Onion  Unicorn  Yogurt\n",
       "0  False  False  False   True      False  ...   True    True   True    False    True\n",
       "1  False  False   True   True      False  ...  False    True   True    False    True\n",
       "2   True  False  False   True      False  ...   True   False  False    False   False\n",
       "3  False   True  False  False      False  ...   True   False  False     True    True\n",
       "4  False   True  False   True       True  ...  False   False   True    False   False\n",
       "\n",
       "[5 rows x 11 columns]"
      ]
     },
     "execution_count": 6,
     "metadata": {
      "tags": []
     },
     "output_type": "execute_result"
    }
   ],
   "source": [
    "df"
   ]
  },
  {
   "cell_type": "code",
   "execution_count": null,
   "metadata": {
    "colab": {
     "base_uri": "https://localhost:8080/",
     "height": 405
    },
    "id": "AXYFYPDLl4bI",
    "outputId": "870d0fc2-6564-411c-e78c-8c4de3ec2e0f"
   },
   "outputs": [
    {
     "data": {
      "text/html": [
       "<div>\n",
       "<style scoped>\n",
       "    .dataframe tbody tr th:only-of-type {\n",
       "        vertical-align: middle;\n",
       "    }\n",
       "\n",
       "    .dataframe tbody tr th {\n",
       "        vertical-align: top;\n",
       "    }\n",
       "\n",
       "    .dataframe thead th {\n",
       "        text-align: right;\n",
       "    }\n",
       "</style>\n",
       "<table border=\"1\" class=\"dataframe\">\n",
       "  <thead>\n",
       "    <tr style=\"text-align: right;\">\n",
       "      <th></th>\n",
       "      <th>support</th>\n",
       "      <th>itemsets</th>\n",
       "    </tr>\n",
       "  </thead>\n",
       "  <tbody>\n",
       "    <tr>\n",
       "      <th>0</th>\n",
       "      <td>0.8</td>\n",
       "      <td>(3)</td>\n",
       "    </tr>\n",
       "    <tr>\n",
       "      <th>1</th>\n",
       "      <td>1.0</td>\n",
       "      <td>(5)</td>\n",
       "    </tr>\n",
       "    <tr>\n",
       "      <th>2</th>\n",
       "      <td>0.6</td>\n",
       "      <td>(6)</td>\n",
       "    </tr>\n",
       "    <tr>\n",
       "      <th>3</th>\n",
       "      <td>0.6</td>\n",
       "      <td>(8)</td>\n",
       "    </tr>\n",
       "    <tr>\n",
       "      <th>4</th>\n",
       "      <td>0.6</td>\n",
       "      <td>(10)</td>\n",
       "    </tr>\n",
       "    <tr>\n",
       "      <th>5</th>\n",
       "      <td>0.8</td>\n",
       "      <td>(3, 5)</td>\n",
       "    </tr>\n",
       "    <tr>\n",
       "      <th>6</th>\n",
       "      <td>0.6</td>\n",
       "      <td>(8, 3)</td>\n",
       "    </tr>\n",
       "    <tr>\n",
       "      <th>7</th>\n",
       "      <td>0.6</td>\n",
       "      <td>(5, 6)</td>\n",
       "    </tr>\n",
       "    <tr>\n",
       "      <th>8</th>\n",
       "      <td>0.6</td>\n",
       "      <td>(8, 5)</td>\n",
       "    </tr>\n",
       "    <tr>\n",
       "      <th>9</th>\n",
       "      <td>0.6</td>\n",
       "      <td>(10, 5)</td>\n",
       "    </tr>\n",
       "    <tr>\n",
       "      <th>10</th>\n",
       "      <td>0.6</td>\n",
       "      <td>(8, 3, 5)</td>\n",
       "    </tr>\n",
       "  </tbody>\n",
       "</table>\n",
       "</div>"
      ],
      "text/plain": [
       "    support   itemsets\n",
       "0       0.8        (3)\n",
       "1       1.0        (5)\n",
       "2       0.6        (6)\n",
       "3       0.6        (8)\n",
       "4       0.6       (10)\n",
       "5       0.8     (3, 5)\n",
       "6       0.6     (8, 3)\n",
       "7       0.6     (5, 6)\n",
       "8       0.6     (8, 5)\n",
       "9       0.6    (10, 5)\n",
       "10      0.6  (8, 3, 5)"
      ]
     },
     "execution_count": 7,
     "metadata": {
      "tags": []
     },
     "output_type": "execute_result"
    }
   ],
   "source": [
    "from mlxtend.frequent_patterns import apriori\n",
    "\n",
    "apriori(df, min_support=0.6)"
   ]
  },
  {
   "cell_type": "code",
   "execution_count": null,
   "metadata": {
    "colab": {
     "base_uri": "https://localhost:8080/",
     "height": 405
    },
    "id": "Znwn2psZl-TX",
    "outputId": "439f6103-883f-44e8-f061-6b0614510dee"
   },
   "outputs": [
    {
     "data": {
      "text/html": [
       "<div>\n",
       "<style scoped>\n",
       "    .dataframe tbody tr th:only-of-type {\n",
       "        vertical-align: middle;\n",
       "    }\n",
       "\n",
       "    .dataframe tbody tr th {\n",
       "        vertical-align: top;\n",
       "    }\n",
       "\n",
       "    .dataframe thead th {\n",
       "        text-align: right;\n",
       "    }\n",
       "</style>\n",
       "<table border=\"1\" class=\"dataframe\">\n",
       "  <thead>\n",
       "    <tr style=\"text-align: right;\">\n",
       "      <th></th>\n",
       "      <th>support</th>\n",
       "      <th>itemsets</th>\n",
       "    </tr>\n",
       "  </thead>\n",
       "  <tbody>\n",
       "    <tr>\n",
       "      <th>0</th>\n",
       "      <td>0.8</td>\n",
       "      <td>(Eggs)</td>\n",
       "    </tr>\n",
       "    <tr>\n",
       "      <th>1</th>\n",
       "      <td>1.0</td>\n",
       "      <td>(Kidney Beans)</td>\n",
       "    </tr>\n",
       "    <tr>\n",
       "      <th>2</th>\n",
       "      <td>0.6</td>\n",
       "      <td>(Milk)</td>\n",
       "    </tr>\n",
       "    <tr>\n",
       "      <th>3</th>\n",
       "      <td>0.6</td>\n",
       "      <td>(Onion)</td>\n",
       "    </tr>\n",
       "    <tr>\n",
       "      <th>4</th>\n",
       "      <td>0.6</td>\n",
       "      <td>(Yogurt)</td>\n",
       "    </tr>\n",
       "    <tr>\n",
       "      <th>5</th>\n",
       "      <td>0.8</td>\n",
       "      <td>(Eggs, Kidney Beans)</td>\n",
       "    </tr>\n",
       "    <tr>\n",
       "      <th>6</th>\n",
       "      <td>0.6</td>\n",
       "      <td>(Eggs, Onion)</td>\n",
       "    </tr>\n",
       "    <tr>\n",
       "      <th>7</th>\n",
       "      <td>0.6</td>\n",
       "      <td>(Milk, Kidney Beans)</td>\n",
       "    </tr>\n",
       "    <tr>\n",
       "      <th>8</th>\n",
       "      <td>0.6</td>\n",
       "      <td>(Onion, Kidney Beans)</td>\n",
       "    </tr>\n",
       "    <tr>\n",
       "      <th>9</th>\n",
       "      <td>0.6</td>\n",
       "      <td>(Yogurt, Kidney Beans)</td>\n",
       "    </tr>\n",
       "    <tr>\n",
       "      <th>10</th>\n",
       "      <td>0.6</td>\n",
       "      <td>(Eggs, Onion, Kidney Beans)</td>\n",
       "    </tr>\n",
       "  </tbody>\n",
       "</table>\n",
       "</div>"
      ],
      "text/plain": [
       "    support                     itemsets\n",
       "0       0.8                       (Eggs)\n",
       "1       1.0               (Kidney Beans)\n",
       "2       0.6                       (Milk)\n",
       "3       0.6                      (Onion)\n",
       "4       0.6                     (Yogurt)\n",
       "5       0.8         (Eggs, Kidney Beans)\n",
       "6       0.6                (Eggs, Onion)\n",
       "7       0.6         (Milk, Kidney Beans)\n",
       "8       0.6        (Onion, Kidney Beans)\n",
       "9       0.6       (Yogurt, Kidney Beans)\n",
       "10      0.6  (Eggs, Onion, Kidney Beans)"
      ]
     },
     "execution_count": 8,
     "metadata": {
      "tags": []
     },
     "output_type": "execute_result"
    }
   ],
   "source": [
    "apriori(df, min_support=0.6, use_colnames=True)"
   ]
  },
  {
   "cell_type": "code",
   "execution_count": null,
   "metadata": {
    "colab": {
     "base_uri": "https://localhost:8080/",
     "height": 405
    },
    "id": "qIDdJwfUmC_-",
    "outputId": "278dc2e0-f6e5-40f9-9229-975a2c65dff8"
   },
   "outputs": [
    {
     "data": {
      "text/html": [
       "<div>\n",
       "<style scoped>\n",
       "    .dataframe tbody tr th:only-of-type {\n",
       "        vertical-align: middle;\n",
       "    }\n",
       "\n",
       "    .dataframe tbody tr th {\n",
       "        vertical-align: top;\n",
       "    }\n",
       "\n",
       "    .dataframe thead th {\n",
       "        text-align: right;\n",
       "    }\n",
       "</style>\n",
       "<table border=\"1\" class=\"dataframe\">\n",
       "  <thead>\n",
       "    <tr style=\"text-align: right;\">\n",
       "      <th></th>\n",
       "      <th>support</th>\n",
       "      <th>itemsets</th>\n",
       "      <th>length</th>\n",
       "    </tr>\n",
       "  </thead>\n",
       "  <tbody>\n",
       "    <tr>\n",
       "      <th>0</th>\n",
       "      <td>0.8</td>\n",
       "      <td>(Eggs)</td>\n",
       "      <td>1</td>\n",
       "    </tr>\n",
       "    <tr>\n",
       "      <th>1</th>\n",
       "      <td>1.0</td>\n",
       "      <td>(Kidney Beans)</td>\n",
       "      <td>1</td>\n",
       "    </tr>\n",
       "    <tr>\n",
       "      <th>2</th>\n",
       "      <td>0.6</td>\n",
       "      <td>(Milk)</td>\n",
       "      <td>1</td>\n",
       "    </tr>\n",
       "    <tr>\n",
       "      <th>3</th>\n",
       "      <td>0.6</td>\n",
       "      <td>(Onion)</td>\n",
       "      <td>1</td>\n",
       "    </tr>\n",
       "    <tr>\n",
       "      <th>4</th>\n",
       "      <td>0.6</td>\n",
       "      <td>(Yogurt)</td>\n",
       "      <td>1</td>\n",
       "    </tr>\n",
       "    <tr>\n",
       "      <th>5</th>\n",
       "      <td>0.8</td>\n",
       "      <td>(Eggs, Kidney Beans)</td>\n",
       "      <td>2</td>\n",
       "    </tr>\n",
       "    <tr>\n",
       "      <th>6</th>\n",
       "      <td>0.6</td>\n",
       "      <td>(Eggs, Onion)</td>\n",
       "      <td>2</td>\n",
       "    </tr>\n",
       "    <tr>\n",
       "      <th>7</th>\n",
       "      <td>0.6</td>\n",
       "      <td>(Milk, Kidney Beans)</td>\n",
       "      <td>2</td>\n",
       "    </tr>\n",
       "    <tr>\n",
       "      <th>8</th>\n",
       "      <td>0.6</td>\n",
       "      <td>(Onion, Kidney Beans)</td>\n",
       "      <td>2</td>\n",
       "    </tr>\n",
       "    <tr>\n",
       "      <th>9</th>\n",
       "      <td>0.6</td>\n",
       "      <td>(Yogurt, Kidney Beans)</td>\n",
       "      <td>2</td>\n",
       "    </tr>\n",
       "    <tr>\n",
       "      <th>10</th>\n",
       "      <td>0.6</td>\n",
       "      <td>(Eggs, Onion, Kidney Beans)</td>\n",
       "      <td>3</td>\n",
       "    </tr>\n",
       "  </tbody>\n",
       "</table>\n",
       "</div>"
      ],
      "text/plain": [
       "    support                     itemsets  length\n",
       "0       0.8                       (Eggs)       1\n",
       "1       1.0               (Kidney Beans)       1\n",
       "2       0.6                       (Milk)       1\n",
       "3       0.6                      (Onion)       1\n",
       "4       0.6                     (Yogurt)       1\n",
       "5       0.8         (Eggs, Kidney Beans)       2\n",
       "6       0.6                (Eggs, Onion)       2\n",
       "7       0.6         (Milk, Kidney Beans)       2\n",
       "8       0.6        (Onion, Kidney Beans)       2\n",
       "9       0.6       (Yogurt, Kidney Beans)       2\n",
       "10      0.6  (Eggs, Onion, Kidney Beans)       3"
      ]
     },
     "execution_count": 9,
     "metadata": {
      "tags": []
     },
     "output_type": "execute_result"
    }
   ],
   "source": [
    "frequent_itemsets = apriori(df, min_support=0.6, use_colnames=True)\n",
    "frequent_itemsets['length'] = frequent_itemsets['itemsets'].apply(lambda x: len(x))\n",
    "frequent_itemsets"
   ]
  },
  {
   "cell_type": "code",
   "execution_count": null,
   "metadata": {
    "colab": {
     "base_uri": "https://localhost:8080/",
     "height": 100
    },
    "id": "nMm8LQzAmOAG",
    "outputId": "f084af42-d8e9-4e10-8b83-37225d618528"
   },
   "outputs": [
    {
     "data": {
      "text/html": [
       "<div>\n",
       "<style scoped>\n",
       "    .dataframe tbody tr th:only-of-type {\n",
       "        vertical-align: middle;\n",
       "    }\n",
       "\n",
       "    .dataframe tbody tr th {\n",
       "        vertical-align: top;\n",
       "    }\n",
       "\n",
       "    .dataframe thead th {\n",
       "        text-align: right;\n",
       "    }\n",
       "</style>\n",
       "<table border=\"1\" class=\"dataframe\">\n",
       "  <thead>\n",
       "    <tr style=\"text-align: right;\">\n",
       "      <th></th>\n",
       "      <th>support</th>\n",
       "      <th>itemsets</th>\n",
       "      <th>length</th>\n",
       "    </tr>\n",
       "  </thead>\n",
       "  <tbody>\n",
       "    <tr>\n",
       "      <th>5</th>\n",
       "      <td>0.8</td>\n",
       "      <td>(Eggs, Kidney Beans)</td>\n",
       "      <td>2</td>\n",
       "    </tr>\n",
       "  </tbody>\n",
       "</table>\n",
       "</div>"
      ],
      "text/plain": [
       "   support              itemsets  length\n",
       "5      0.8  (Eggs, Kidney Beans)       2"
      ]
     },
     "execution_count": 10,
     "metadata": {
      "tags": []
     },
     "output_type": "execute_result"
    }
   ],
   "source": [
    "frequent_itemsets[ (frequent_itemsets['length'] == 2) &\n",
    "                   (frequent_itemsets['support'] >= 0.8) ]"
   ]
  },
  {
   "cell_type": "markdown",
   "metadata": {
    "id": "panHck62oBUh"
   },
   "source": [
    "Support of the item x is nothing but the ratio of the number of transactions in which the item x appears to the \n",
    "total number of transactions.\n",
    "\n",
    "i.e.,\n",
    "\n",
    "Support(egg) = number egg transaction / total transaction\n",
    "\n",
    "Support(egg) = 4/5 = 0.8\n",
    "\n"
   ]
  }
 ],
 "metadata": {
  "colab": {
   "collapsed_sections": [],
   "name": "Python For Business People.ipynb",
   "provenance": [],
   "toc_visible": true
  },
  "kernelspec": {
   "display_name": "Python 3 (ipykernel)",
   "language": "python",
   "name": "python3"
  },
  "language_info": {
   "codemirror_mode": {
    "name": "ipython",
    "version": 3
   },
   "file_extension": ".py",
   "mimetype": "text/x-python",
   "name": "python",
   "nbconvert_exporter": "python",
   "pygments_lexer": "ipython3",
   "version": "3.9.6"
  }
 },
 "nbformat": 4,
 "nbformat_minor": 4
}
